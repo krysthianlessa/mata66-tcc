{
 "cells": [
  {
   "cell_type": "code",
   "execution_count": null,
   "metadata": {},
   "outputs": [],
   "source": [
    "from recomender.preprocessor import PreprocessDatasets\n",
    "from recomender.evaluation import EvaluationGenerator\n",
    "import pandas as pd"
   ]
  },
  {
   "attachments": {},
   "cell_type": "markdown",
   "metadata": {},
   "source": [
    "### Tratamento dos dados"
   ]
  },
  {
   "cell_type": "code",
   "execution_count": null,
   "metadata": {},
   "outputs": [],
   "source": [
    "preprocessor = PreprocessDatasets(pd.read_csv('data/ml-latest-small/overviews.csv'))\n",
    "\n",
    "ratings_df = preprocessor.preprocess_ratings(pd.read_csv('data/ml-latest-small/ratings.csv'))\n",
    "movie_details_df = preprocessor.create_movies_details( pd.read_csv('data/ml-latest-small/movies.csv'))"
   ]
  },
  {
   "cell_type": "code",
   "execution_count": null,
   "metadata": {},
   "outputs": [],
   "source": [
    "print(\"quantity of unique users: \"+str(len(set(ratings_df.userId.to_list()))))"
   ]
  },
  {
   "attachments": {},
   "cell_type": "markdown",
   "metadata": {},
   "source": [
    "### Iniciando o processo de recomendação"
   ]
  },
  {
   "cell_type": "code",
   "execution_count": null,
   "metadata": {},
   "outputs": [],
   "source": [
    "combination_pre_process_techniques = [\n",
    "    (1, (False, False, False)),\n",
    "    (2, (False, False, True)),\n",
    "    (3, (False, True, False)),\n",
    "    (4, (False, True, True)),\n",
    "    (5, (True, False, False)),\n",
    "    (6, (True, False, True)),\n",
    "    (7, (True, True, False)),\n",
    "    (8, (True, True, True)),\n",
    "]"
   ]
  },
  {
   "cell_type": "code",
   "execution_count": null,
   "metadata": {},
   "outputs": [],
   "source": [
    "evaluate_generator = EvaluationGenerator()\n",
    "\n",
    "for count, technique in combination_pre_process_techniques:\n",
    "    evaluate_generator.generate(movie_details_df, ratings_df, technique, count)"
   ]
  }
 ],
 "metadata": {
  "kernelspec": {
   "display_name": "Python 3.9.13 ('tccenv')",
   "language": "python",
   "name": "python3"
  },
  "language_info": {
   "codemirror_mode": {
    "name": "ipython",
    "version": 3
   },
   "file_extension": ".py",
   "mimetype": "text/x-python",
   "name": "python",
   "nbconvert_exporter": "python",
   "pygments_lexer": "ipython3",
   "version": "3.10.0"
  },
  "orig_nbformat": 4,
  "vscode": {
   "interpreter": {
    "hash": "9e1b49217fe1f6e7052c73d461b10e73d2c8e219de20ecc2f118f6b9f672e67d"
   }
  }
 },
 "nbformat": 4,
 "nbformat_minor": 2
}

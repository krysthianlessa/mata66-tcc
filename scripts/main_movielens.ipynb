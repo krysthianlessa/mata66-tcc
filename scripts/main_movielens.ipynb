{
 "cells": [
  {
   "cell_type": "code",
   "execution_count": 1,
   "metadata": {},
   "outputs": [],
   "source": [
    "import string\n",
    "\n",
    "import pandas as pd\n",
    "import numpy as np\n",
    "from nltk import word_tokenize\n",
    "from nltk.corpus import stopwords\n",
    "from nltk.stem import PorterStemmer, WordNetLemmatizer\n",
    "from rake_nltk import Rake\n",
    "from sklearn.feature_extraction.text import CountVectorizer, TfidfVectorizer\n",
    "from sklearn.metrics.pairwise import cosine_similarity\n",
    "from unidecode import unidecode"
   ]
  },
  {
   "cell_type": "markdown",
   "metadata": {},
   "source": [
    "### Tratamento dos dados"
   ]
  },
  {
   "cell_type": "code",
   "execution_count": 2,
   "metadata": {},
   "outputs": [
    {
     "data": {
      "text/html": [
       "<div>\n",
       "<style scoped>\n",
       "    .dataframe tbody tr th:only-of-type {\n",
       "        vertical-align: middle;\n",
       "    }\n",
       "\n",
       "    .dataframe tbody tr th {\n",
       "        vertical-align: top;\n",
       "    }\n",
       "\n",
       "    .dataframe thead th {\n",
       "        text-align: right;\n",
       "    }\n",
       "</style>\n",
       "<table border=\"1\" class=\"dataframe\">\n",
       "  <thead>\n",
       "    <tr style=\"text-align: right;\">\n",
       "      <th></th>\n",
       "      <th>movieId</th>\n",
       "      <th>title</th>\n",
       "      <th>genres</th>\n",
       "    </tr>\n",
       "  </thead>\n",
       "  <tbody>\n",
       "    <tr>\n",
       "      <th>0</th>\n",
       "      <td>1</td>\n",
       "      <td>Toy Story (1995)</td>\n",
       "      <td>Adventure|Animation|Children|Comedy|Fantasy</td>\n",
       "    </tr>\n",
       "    <tr>\n",
       "      <th>1</th>\n",
       "      <td>2</td>\n",
       "      <td>Jumanji (1995)</td>\n",
       "      <td>Adventure|Children|Fantasy</td>\n",
       "    </tr>\n",
       "    <tr>\n",
       "      <th>2</th>\n",
       "      <td>3</td>\n",
       "      <td>Grumpier Old Men (1995)</td>\n",
       "      <td>Comedy|Romance</td>\n",
       "    </tr>\n",
       "    <tr>\n",
       "      <th>3</th>\n",
       "      <td>4</td>\n",
       "      <td>Waiting to Exhale (1995)</td>\n",
       "      <td>Comedy|Drama|Romance</td>\n",
       "    </tr>\n",
       "    <tr>\n",
       "      <th>4</th>\n",
       "      <td>5</td>\n",
       "      <td>Father of the Bride Part II (1995)</td>\n",
       "      <td>Comedy</td>\n",
       "    </tr>\n",
       "  </tbody>\n",
       "</table>\n",
       "</div>"
      ],
      "text/plain": [
       "   movieId                               title  \\\n",
       "0        1                    Toy Story (1995)   \n",
       "1        2                      Jumanji (1995)   \n",
       "2        3             Grumpier Old Men (1995)   \n",
       "3        4            Waiting to Exhale (1995)   \n",
       "4        5  Father of the Bride Part II (1995)   \n",
       "\n",
       "                                        genres  \n",
       "0  Adventure|Animation|Children|Comedy|Fantasy  \n",
       "1                   Adventure|Children|Fantasy  \n",
       "2                               Comedy|Romance  \n",
       "3                         Comedy|Drama|Romance  \n",
       "4                                       Comedy  "
      ]
     },
     "execution_count": 2,
     "metadata": {},
     "output_type": "execute_result"
    }
   ],
   "source": [
    "movies_df = pd.read_csv('../data/movies.csv')\n",
    "movies_df.head()"
   ]
  },
  {
   "cell_type": "code",
   "execution_count": 3,
   "metadata": {},
   "outputs": [
    {
     "data": {
      "text/html": [
       "<div>\n",
       "<style scoped>\n",
       "    .dataframe tbody tr th:only-of-type {\n",
       "        vertical-align: middle;\n",
       "    }\n",
       "\n",
       "    .dataframe tbody tr th {\n",
       "        vertical-align: top;\n",
       "    }\n",
       "\n",
       "    .dataframe thead th {\n",
       "        text-align: right;\n",
       "    }\n",
       "</style>\n",
       "<table border=\"1\" class=\"dataframe\">\n",
       "  <thead>\n",
       "    <tr style=\"text-align: right;\">\n",
       "      <th></th>\n",
       "      <th>movieId</th>\n",
       "      <th>tmdbId</th>\n",
       "      <th>overview</th>\n",
       "    </tr>\n",
       "  </thead>\n",
       "  <tbody>\n",
       "    <tr>\n",
       "      <th>0</th>\n",
       "      <td>1</td>\n",
       "      <td>862</td>\n",
       "      <td>Led by Woody, Andy's toys live happily in his ...</td>\n",
       "    </tr>\n",
       "    <tr>\n",
       "      <th>1</th>\n",
       "      <td>2</td>\n",
       "      <td>8844</td>\n",
       "      <td>When siblings Judy and Peter discover an encha...</td>\n",
       "    </tr>\n",
       "    <tr>\n",
       "      <th>2</th>\n",
       "      <td>3</td>\n",
       "      <td>15602</td>\n",
       "      <td>A family wedding reignites the ancient feud be...</td>\n",
       "    </tr>\n",
       "    <tr>\n",
       "      <th>3</th>\n",
       "      <td>4</td>\n",
       "      <td>31357</td>\n",
       "      <td>Cheated on, mistreated and stepped on, the wom...</td>\n",
       "    </tr>\n",
       "    <tr>\n",
       "      <th>4</th>\n",
       "      <td>5</td>\n",
       "      <td>11862</td>\n",
       "      <td>Just when George Banks has recovered from his ...</td>\n",
       "    </tr>\n",
       "  </tbody>\n",
       "</table>\n",
       "</div>"
      ],
      "text/plain": [
       "   movieId  tmdbId                                           overview\n",
       "0        1     862  Led by Woody, Andy's toys live happily in his ...\n",
       "1        2    8844  When siblings Judy and Peter discover an encha...\n",
       "2        3   15602  A family wedding reignites the ancient feud be...\n",
       "3        4   31357  Cheated on, mistreated and stepped on, the wom...\n",
       "4        5   11862  Just when George Banks has recovered from his ..."
      ]
     },
     "execution_count": 3,
     "metadata": {},
     "output_type": "execute_result"
    }
   ],
   "source": [
    "overview_df = pd.read_csv('../data/overviews.csv')\n",
    "overview_df.head()"
   ]
  },
  {
   "cell_type": "code",
   "execution_count": 4,
   "metadata": {},
   "outputs": [
    {
     "data": {
      "text/html": [
       "<div>\n",
       "<style scoped>\n",
       "    .dataframe tbody tr th:only-of-type {\n",
       "        vertical-align: middle;\n",
       "    }\n",
       "\n",
       "    .dataframe tbody tr th {\n",
       "        vertical-align: top;\n",
       "    }\n",
       "\n",
       "    .dataframe thead th {\n",
       "        text-align: right;\n",
       "    }\n",
       "</style>\n",
       "<table border=\"1\" class=\"dataframe\">\n",
       "  <thead>\n",
       "    <tr style=\"text-align: right;\">\n",
       "      <th></th>\n",
       "      <th>userId</th>\n",
       "      <th>movieId</th>\n",
       "      <th>rating</th>\n",
       "    </tr>\n",
       "  </thead>\n",
       "  <tbody>\n",
       "    <tr>\n",
       "      <th>0</th>\n",
       "      <td>1</td>\n",
       "      <td>1</td>\n",
       "      <td>4.0</td>\n",
       "    </tr>\n",
       "    <tr>\n",
       "      <th>1</th>\n",
       "      <td>1</td>\n",
       "      <td>3</td>\n",
       "      <td>4.0</td>\n",
       "    </tr>\n",
       "    <tr>\n",
       "      <th>2</th>\n",
       "      <td>1</td>\n",
       "      <td>6</td>\n",
       "      <td>4.0</td>\n",
       "    </tr>\n",
       "    <tr>\n",
       "      <th>3</th>\n",
       "      <td>1</td>\n",
       "      <td>47</td>\n",
       "      <td>5.0</td>\n",
       "    </tr>\n",
       "    <tr>\n",
       "      <th>4</th>\n",
       "      <td>1</td>\n",
       "      <td>50</td>\n",
       "      <td>5.0</td>\n",
       "    </tr>\n",
       "  </tbody>\n",
       "</table>\n",
       "</div>"
      ],
      "text/plain": [
       "   userId  movieId  rating\n",
       "0       1        1     4.0\n",
       "1       1        3     4.0\n",
       "2       1        6     4.0\n",
       "3       1       47     5.0\n",
       "4       1       50     5.0"
      ]
     },
     "execution_count": 4,
     "metadata": {},
     "output_type": "execute_result"
    }
   ],
   "source": [
    "ratings_df = pd.read_csv('../data/ratings.csv')\n",
    "ratings_df.drop(columns=['timestamp'], inplace=True)\n",
    "ratings_df.head()"
   ]
  },
  {
   "cell_type": "code",
   "execution_count": 5,
   "metadata": {},
   "outputs": [
    {
     "data": {
      "text/plain": [
       "(100836, 3)"
      ]
     },
     "execution_count": 5,
     "metadata": {},
     "output_type": "execute_result"
    }
   ],
   "source": [
    "ratings_df.shape"
   ]
  },
  {
   "cell_type": "code",
   "execution_count": 6,
   "metadata": {},
   "outputs": [
    {
     "data": {
      "text/plain": [
       "(9742, 3)"
      ]
     },
     "execution_count": 6,
     "metadata": {},
     "output_type": "execute_result"
    }
   ],
   "source": [
    "movies_df.shape"
   ]
  },
  {
   "cell_type": "code",
   "execution_count": 7,
   "metadata": {},
   "outputs": [
    {
     "data": {
      "text/plain": [
       "(9742, 3)"
      ]
     },
     "execution_count": 7,
     "metadata": {},
     "output_type": "execute_result"
    }
   ],
   "source": [
    "overview_df.shape"
   ]
  },
  {
   "cell_type": "code",
   "execution_count": 8,
   "metadata": {},
   "outputs": [
    {
     "data": {
      "text/plain": [
       "userId     0\n",
       "movieId    0\n",
       "rating     0\n",
       "dtype: int64"
      ]
     },
     "execution_count": 8,
     "metadata": {},
     "output_type": "execute_result"
    }
   ],
   "source": [
    "ratings_df.isna().sum()"
   ]
  },
  {
   "cell_type": "code",
   "execution_count": 9,
   "metadata": {},
   "outputs": [
    {
     "data": {
      "text/plain": [
       "movieId    0\n",
       "title      0\n",
       "genres     0\n",
       "dtype: int64"
      ]
     },
     "execution_count": 9,
     "metadata": {},
     "output_type": "execute_result"
    }
   ],
   "source": [
    "movies_df.isna().sum()"
   ]
  },
  {
   "cell_type": "code",
   "execution_count": 10,
   "metadata": {},
   "outputs": [
    {
     "data": {
      "text/plain": [
       "movieId       0\n",
       "tmdbId        0\n",
       "overview    117\n",
       "dtype: int64"
      ]
     },
     "execution_count": 10,
     "metadata": {},
     "output_type": "execute_result"
    }
   ],
   "source": [
    "overview_df.isna().sum()"
   ]
  },
  {
   "cell_type": "code",
   "execution_count": 11,
   "metadata": {},
   "outputs": [],
   "source": [
    "list_movies_missing_overview = list(overview_df[overview_df.overview.isna()]['movieId'])"
   ]
  },
  {
   "cell_type": "code",
   "execution_count": 12,
   "metadata": {},
   "outputs": [
    {
     "data": {
      "text/plain": [
       "movieId     0\n",
       "tmdbId      0\n",
       "overview    0\n",
       "dtype: int64"
      ]
     },
     "execution_count": 12,
     "metadata": {},
     "output_type": "execute_result"
    }
   ],
   "source": [
    "overview_df.dropna(inplace=True)\n",
    "overview_df.isna().sum()"
   ]
  },
  {
   "cell_type": "code",
   "execution_count": 13,
   "metadata": {},
   "outputs": [],
   "source": [
    "# remove ratings dos filmes 'dropados'\n",
    "\n",
    "ratings_df = ratings_df[~ratings_df.movieId.isin(list_movies_missing_overview)]"
   ]
  },
  {
   "cell_type": "code",
   "execution_count": 14,
   "metadata": {},
   "outputs": [],
   "source": [
    "#remove filmes 'dropados' do df de filmes\n",
    "\n",
    "movies_df = movies_df[~movies_df.movieId.isin(list_movies_missing_overview)]"
   ]
  },
  {
   "cell_type": "code",
   "execution_count": 15,
   "metadata": {},
   "outputs": [
    {
     "data": {
      "text/plain": [
       "(9625, 3)"
      ]
     },
     "execution_count": 15,
     "metadata": {},
     "output_type": "execute_result"
    }
   ],
   "source": [
    "movies_df.shape"
   ]
  },
  {
   "cell_type": "code",
   "execution_count": 16,
   "metadata": {},
   "outputs": [
    {
     "data": {
      "text/plain": [
       "(9625, 3)"
      ]
     },
     "execution_count": 16,
     "metadata": {},
     "output_type": "execute_result"
    }
   ],
   "source": [
    "overview_df.shape"
   ]
  },
  {
   "cell_type": "code",
   "execution_count": 17,
   "metadata": {},
   "outputs": [
    {
     "data": {
      "text/plain": [
       "(100525, 3)"
      ]
     },
     "execution_count": 17,
     "metadata": {},
     "output_type": "execute_result"
    }
   ],
   "source": [
    "ratings_df.shape"
   ]
  },
  {
   "cell_type": "code",
   "execution_count": 18,
   "metadata": {},
   "outputs": [],
   "source": [
    "experiment_df = movies_df.set_index('movieId').join(overview_df.set_index('movieId'), how='left')"
   ]
  },
  {
   "cell_type": "code",
   "execution_count": 19,
   "metadata": {},
   "outputs": [
    {
     "data": {
      "text/html": [
       "<div>\n",
       "<style scoped>\n",
       "    .dataframe tbody tr th:only-of-type {\n",
       "        vertical-align: middle;\n",
       "    }\n",
       "\n",
       "    .dataframe tbody tr th {\n",
       "        vertical-align: top;\n",
       "    }\n",
       "\n",
       "    .dataframe thead th {\n",
       "        text-align: right;\n",
       "    }\n",
       "</style>\n",
       "<table border=\"1\" class=\"dataframe\">\n",
       "  <thead>\n",
       "    <tr style=\"text-align: right;\">\n",
       "      <th></th>\n",
       "      <th>movieId</th>\n",
       "      <th>title</th>\n",
       "      <th>genres</th>\n",
       "      <th>tmdbId</th>\n",
       "      <th>overview</th>\n",
       "    </tr>\n",
       "  </thead>\n",
       "  <tbody>\n",
       "    <tr>\n",
       "      <th>0</th>\n",
       "      <td>1</td>\n",
       "      <td>Toy Story (1995)</td>\n",
       "      <td>Adventure|Animation|Children|Comedy|Fantasy</td>\n",
       "      <td>862</td>\n",
       "      <td>Led by Woody, Andy's toys live happily in his ...</td>\n",
       "    </tr>\n",
       "    <tr>\n",
       "      <th>1</th>\n",
       "      <td>2</td>\n",
       "      <td>Jumanji (1995)</td>\n",
       "      <td>Adventure|Children|Fantasy</td>\n",
       "      <td>8844</td>\n",
       "      <td>When siblings Judy and Peter discover an encha...</td>\n",
       "    </tr>\n",
       "    <tr>\n",
       "      <th>2</th>\n",
       "      <td>3</td>\n",
       "      <td>Grumpier Old Men (1995)</td>\n",
       "      <td>Comedy|Romance</td>\n",
       "      <td>15602</td>\n",
       "      <td>A family wedding reignites the ancient feud be...</td>\n",
       "    </tr>\n",
       "    <tr>\n",
       "      <th>3</th>\n",
       "      <td>4</td>\n",
       "      <td>Waiting to Exhale (1995)</td>\n",
       "      <td>Comedy|Drama|Romance</td>\n",
       "      <td>31357</td>\n",
       "      <td>Cheated on, mistreated and stepped on, the wom...</td>\n",
       "    </tr>\n",
       "    <tr>\n",
       "      <th>4</th>\n",
       "      <td>5</td>\n",
       "      <td>Father of the Bride Part II (1995)</td>\n",
       "      <td>Comedy</td>\n",
       "      <td>11862</td>\n",
       "      <td>Just when George Banks has recovered from his ...</td>\n",
       "    </tr>\n",
       "  </tbody>\n",
       "</table>\n",
       "</div>"
      ],
      "text/plain": [
       "   movieId                               title  \\\n",
       "0        1                    Toy Story (1995)   \n",
       "1        2                      Jumanji (1995)   \n",
       "2        3             Grumpier Old Men (1995)   \n",
       "3        4            Waiting to Exhale (1995)   \n",
       "4        5  Father of the Bride Part II (1995)   \n",
       "\n",
       "                                        genres  tmdbId  \\\n",
       "0  Adventure|Animation|Children|Comedy|Fantasy     862   \n",
       "1                   Adventure|Children|Fantasy    8844   \n",
       "2                               Comedy|Romance   15602   \n",
       "3                         Comedy|Drama|Romance   31357   \n",
       "4                                       Comedy   11862   \n",
       "\n",
       "                                            overview  \n",
       "0  Led by Woody, Andy's toys live happily in his ...  \n",
       "1  When siblings Judy and Peter discover an encha...  \n",
       "2  A family wedding reignites the ancient feud be...  \n",
       "3  Cheated on, mistreated and stepped on, the wom...  \n",
       "4  Just when George Banks has recovered from his ...  "
      ]
     },
     "execution_count": 19,
     "metadata": {},
     "output_type": "execute_result"
    }
   ],
   "source": [
    "experiment_df.reset_index(inplace=True)\n",
    "experiment_df.head()"
   ]
  },
  {
   "cell_type": "code",
   "execution_count": 20,
   "metadata": {},
   "outputs": [],
   "source": [
    "experiment_df.replace('(no genres listed)', '', inplace=True)"
   ]
  },
  {
   "cell_type": "code",
   "execution_count": 21,
   "metadata": {},
   "outputs": [],
   "source": [
    "# colocando os gêneros em uma lista de palavras\n",
    "experiment_df['genres'] = experiment_df['genres'].map(lambda x: x.lower().split('|'))"
   ]
  },
  {
   "cell_type": "code",
   "execution_count": 22,
   "metadata": {},
   "outputs": [],
   "source": [
    "experiment_df.drop(columns=['tmdbId'], inplace=True)\n",
    "experiment_df.set_index('movieId', inplace=True)"
   ]
  },
  {
   "cell_type": "code",
   "execution_count": 23,
   "metadata": {},
   "outputs": [
    {
     "data": {
      "text/html": [
       "<div>\n",
       "<style scoped>\n",
       "    .dataframe tbody tr th:only-of-type {\n",
       "        vertical-align: middle;\n",
       "    }\n",
       "\n",
       "    .dataframe tbody tr th {\n",
       "        vertical-align: top;\n",
       "    }\n",
       "\n",
       "    .dataframe thead th {\n",
       "        text-align: right;\n",
       "    }\n",
       "</style>\n",
       "<table border=\"1\" class=\"dataframe\">\n",
       "  <thead>\n",
       "    <tr style=\"text-align: right;\">\n",
       "      <th></th>\n",
       "      <th>title</th>\n",
       "      <th>genres</th>\n",
       "      <th>overview</th>\n",
       "    </tr>\n",
       "    <tr>\n",
       "      <th>movieId</th>\n",
       "      <th></th>\n",
       "      <th></th>\n",
       "      <th></th>\n",
       "    </tr>\n",
       "  </thead>\n",
       "  <tbody>\n",
       "    <tr>\n",
       "      <th>1</th>\n",
       "      <td>Toy Story (1995)</td>\n",
       "      <td>[adventure, animation, children, comedy, fantasy]</td>\n",
       "      <td>Led by Woody, Andy's toys live happily in his ...</td>\n",
       "    </tr>\n",
       "    <tr>\n",
       "      <th>2</th>\n",
       "      <td>Jumanji (1995)</td>\n",
       "      <td>[adventure, children, fantasy]</td>\n",
       "      <td>When siblings Judy and Peter discover an encha...</td>\n",
       "    </tr>\n",
       "    <tr>\n",
       "      <th>3</th>\n",
       "      <td>Grumpier Old Men (1995)</td>\n",
       "      <td>[comedy, romance]</td>\n",
       "      <td>A family wedding reignites the ancient feud be...</td>\n",
       "    </tr>\n",
       "    <tr>\n",
       "      <th>4</th>\n",
       "      <td>Waiting to Exhale (1995)</td>\n",
       "      <td>[comedy, drama, romance]</td>\n",
       "      <td>Cheated on, mistreated and stepped on, the wom...</td>\n",
       "    </tr>\n",
       "    <tr>\n",
       "      <th>5</th>\n",
       "      <td>Father of the Bride Part II (1995)</td>\n",
       "      <td>[comedy]</td>\n",
       "      <td>Just when George Banks has recovered from his ...</td>\n",
       "    </tr>\n",
       "  </tbody>\n",
       "</table>\n",
       "</div>"
      ],
      "text/plain": [
       "                                      title  \\\n",
       "movieId                                       \n",
       "1                          Toy Story (1995)   \n",
       "2                            Jumanji (1995)   \n",
       "3                   Grumpier Old Men (1995)   \n",
       "4                  Waiting to Exhale (1995)   \n",
       "5        Father of the Bride Part II (1995)   \n",
       "\n",
       "                                                    genres  \\\n",
       "movieId                                                      \n",
       "1        [adventure, animation, children, comedy, fantasy]   \n",
       "2                           [adventure, children, fantasy]   \n",
       "3                                        [comedy, romance]   \n",
       "4                                 [comedy, drama, romance]   \n",
       "5                                                 [comedy]   \n",
       "\n",
       "                                                  overview  \n",
       "movieId                                                     \n",
       "1        Led by Woody, Andy's toys live happily in his ...  \n",
       "2        When siblings Judy and Peter discover an encha...  \n",
       "3        A family wedding reignites the ancient feud be...  \n",
       "4        Cheated on, mistreated and stepped on, the wom...  \n",
       "5        Just when George Banks has recovered from his ...  "
      ]
     },
     "execution_count": 23,
     "metadata": {},
     "output_type": "execute_result"
    }
   ],
   "source": [
    "experiment_df.head()"
   ]
  },
  {
   "cell_type": "markdown",
   "metadata": {},
   "source": [
    "### Iniciando o processo de recomendação"
   ]
  },
  {
   "cell_type": "markdown",
   "metadata": {},
   "source": [
    "#### Definindo funções"
   ]
  },
  {
   "cell_type": "code",
   "execution_count": 24,
   "metadata": {},
   "outputs": [],
   "source": [
    "def nlp_pre_process(corpus, stop_words_remv = True, lemmatizetion = True, stemmization = True):\n",
    "    corpus = corpus.lower()\n",
    "    stopset = []\n",
    "    if (stop_words_remv):\n",
    "        stopset = stopwords.words('english')\n",
    "        stopset += list(string.punctuation)\n",
    "\n",
    "    if (lemmatizetion):\n",
    "        lemmatizer = WordNetLemmatizer()\n",
    "        corpus = \" \".join([lemmatizer.lemmatize(i) for i in word_tokenize(corpus) if i not in stopset])\n",
    "    \n",
    "    if (stemmization):\n",
    "        stemmer = PorterStemmer()\n",
    "        corpus = \" \".join([stemmer.stem(i) for i in word_tokenize(corpus)])\n",
    "    \n",
    "    # remove non-ascii characters\n",
    "    corpus = unidecode(corpus)\n",
    "    \n",
    "    return corpus"
   ]
  },
  {
   "cell_type": "code",
   "execution_count": 25,
   "metadata": {},
   "outputs": [],
   "source": [
    "def apply_rake(df):\n",
    "    for index, row in df.iterrows():\n",
    "        overview = row['overview']\n",
    "\n",
    "        # instanciando Rake, por padrão usa palavras irrelevantes em inglês do NLTK \n",
    "        # e descarta todos os caracteres de pontuação\n",
    "        r = Rake()\n",
    "\n",
    "        # extraindo as palavras passando o texto\n",
    "        r.extract_keywords_from_text(overview)\n",
    "\n",
    "        # obtendo o dicionário com palavras-chave e suas pontuações\n",
    "        key_words_dict_scores = r.get_word_degrees()\n",
    "\n",
    "        # atribuindo as palavras-chave à nova coluna\n",
    "        row['key_words'] = list(key_words_dict_scores.keys())\n",
    "\n",
    "    return df"
   ]
  },
  {
   "cell_type": "code",
   "execution_count": 26,
   "metadata": {},
   "outputs": [],
   "source": [
    "def create_bag_of_words(df):\n",
    "    df['bag_of_words'] = ''\n",
    "    columns = df.columns\n",
    "\n",
    "    for index, row in df.iterrows():\n",
    "        words = ''\n",
    "        for col in columns:\n",
    "            if col != 'title':\n",
    "                words = words + ' '.join(row[col])+ ' '\n",
    "        row['bag_of_words'] = words\n",
    "        \n",
    "    df.drop(columns = [col for col in df.columns if col != 'bag_of_words' and col != 'title'], inplace = True)\n",
    "\n",
    "    return df"
   ]
  },
  {
   "cell_type": "code",
   "execution_count": 27,
   "metadata": {},
   "outputs": [],
   "source": [
    "def pre_process(movies_df, stopwords_removal=True, lemmatization=True, stemmization=True):\n",
    "    df = movies_df.copy()\n",
    "    df['overview'].apply(nlp_pre_process, args=(stopwords_removal, lemmatization, stemmization))\n",
    "\n",
    "    df['key_words'] = ''\n",
    "\n",
    "    df = apply_rake(df)\n",
    "\n",
    "    df.drop(columns=['overview'], inplace = True)\n",
    "\n",
    "    df = create_bag_of_words(df)\n",
    "\n",
    "    return df"
   ]
  },
  {
   "cell_type": "code",
   "execution_count": 28,
   "metadata": {},
   "outputs": [],
   "source": [
    "def recommender(movies_interacteds, movies_not_interacteds, movie_id_list, cosine_similarity):\n",
    "\n",
    "    movie_to_index = {movie_id:index for index, movie_id in enumerate(movie_id_list)}\n",
    "    index_to_movie = {index:movie_id for index, movie_id in enumerate(movie_id_list)}\n",
    "\n",
    "    similaritys = []\n",
    "\n",
    "    # pegando lista de similaridades dos itens não interagidos\n",
    "    for movie in movies_interacteds:\n",
    "        similaritys.append([sim for i, sim in enumerate(cosine_similarity[movie_to_index[movie]]) if index_to_movie[i] in movies_not_interacteds])\n",
    "\n",
    "    # obtendo a similaridade média\n",
    "    num_of_items = len(movies_not_interacteds)\n",
    "    sum_similarity = np.array([0.0] * num_of_items)\n",
    "    for similarity in similaritys:\n",
    "        sum_similarity += np.array(similarity)\n",
    "\n",
    "    average_similarity = sum_similarity / num_of_items\n",
    "\n",
    "    items_more_similar = pd.Series(average_similarity).sort_values(ascending = False)\n",
    "    print(items_more_similar)\n",
    "    # pegando o top 10 indices de filmes mais similares\n",
    "    top_10_similarity = list(items_more_similar.iloc[0:10].index)\n",
    "\n",
    "    movies_to_recommend = pd.Series(movies_not_interacteds)\n",
    "\n",
    "    top_10_movies = list(movies_to_recommend[movies_to_recommend.index.isin(top_10_similarity)])\n",
    "\n",
    "    return top_10_movies"
   ]
  },
  {
   "cell_type": "code",
   "execution_count": 29,
   "metadata": {},
   "outputs": [],
   "source": [
    "def generate_similarity_matrix(df):\n",
    "    # instanciando e gerando a matriz de contagem\n",
    "    # count = CountVectorizer()\n",
    "    count = TfidfVectorizer()\n",
    "    count_matrix = count.fit_transform(df['bag_of_words'])\n",
    "\n",
    "    # gerando a matriz de similaridade de cosseno\n",
    "    cosine_sim = cosine_similarity(count_matrix, count_matrix)\n",
    "\n",
    "    return cosine_sim"
   ]
  },
  {
   "cell_type": "code",
   "execution_count": 30,
   "metadata": {},
   "outputs": [],
   "source": [
    "def get_recomendations(movies_df, ratings_df, user_id, rating_threshold=4.0, frac=0.5, seed=5):\n",
    "    profile = ratings_df[ratings_df.userId == user_id]\n",
    "    profile = profile[profile.rating >= rating_threshold]\n",
    "\n",
    "    user_preference_1 = profile.sample(frac=frac, random_state=seed)\n",
    "    user_preference_2 = profile[~profile.movieId.isin(user_preference_1.movieId)]\n",
    "\n",
    "    cosine_sim = generate_similarity_matrix(movies_df)\n",
    "\n",
    "    movies_list = list(movies_df.index)\n",
    "\n",
    "    user_not_interact = movies_df[~movies_df.index.isin(user_preference_1.movieId)]\n",
    "\n",
    "    user_interact_ids = list(user_preference_1.movieId)\n",
    "\n",
    "    user_not_interact_ids = list(user_not_interact.index)\n",
    "\n",
    "    movie_id_list = list(movies_df.index)\n",
    "\n",
    "    movies_recomended = recommender(user_interact_ids, user_not_interact_ids, movie_id_list, cosine_sim)\n",
    "\n",
    "    return movies_recomended"
   ]
  },
  {
   "cell_type": "code",
   "execution_count": 31,
   "metadata": {},
   "outputs": [],
   "source": [
    "def evaluation_recommendation(movies_df, ratings_df, rating_threshold=4.0, frac=0.5, seed=5):\n",
    "    movies_df = pre_process(movies_df, stopwords_removal=True, lemmatization=True, stemmization=True)\n",
    "\n",
    "    user_ids = set(list(ratings_df.userId))\n",
    "\n",
    "    for user_id in user_ids:\n",
    "  \n",
    "        movies_recomended = get_recomendations(movies_df, ratings_df, user_id, rating_threshold, frac, seed)\n",
    "        \n",
    "        try:\n",
    "            with open('../result/recomendations.csv', 'a') as recomendations:\n",
    "                recomendations.write('{},\"{}\"\\n'.format(user_id, str(movies_recomended)[1:-1]))\n",
    "        except Exception:\n",
    "            print('Falha ao gravar as recomendações do id {}'.format(user_id))\n",
    "            with open('../result/fails.csv', 'a') as fails:\n",
    "                fails.write('{},\"{}\"\\n'.format(user_id, str(movies_recomended)[1:-1]))\n",
    "        else:\n",
    "            print('Recomendações do id {} gravado.'.format(user_id))\n",
    "    "
   ]
  },
  {
   "cell_type": "code",
   "execution_count": 38,
   "metadata": {},
   "outputs": [],
   "source": [
    "combinations_pre_process = [\n",
    "    (False,False,False),\n",
    "    (False,False,True),\n",
    "    (False,True,False),\n",
    "    (False,True,True),\n",
    "    (True,False,False),\n",
    "    (True,False,True),\n",
    "    (True,True,False),\n",
    "    (True,True,True)\n",
    "]"
   ]
  },
  {
   "cell_type": "code",
   "execution_count": 621,
   "metadata": {},
   "outputs": [
    {
     "name": "stdout",
     "output_type": "stream",
     "text": [
      "(False, False, False)\n",
      "(False, False, True)\n",
      "(False, True, False)\n",
      "(False, True, True)\n",
      "(True, False, False)\n",
      "(True, False, True)\n",
      "(True, True, False)\n",
      "(True, True, True)\n"
     ]
    }
   ],
   "source": [
    "for combination in combinations_pre_process:\n",
    "    stopword, lemma, stemm = combination\n",
    "    print(combination)\n",
    "    movies_df = pre_process(experiment_df, stopword, lemma, stemm)"
   ]
  },
  {
   "cell_type": "code",
   "execution_count": null,
   "metadata": {},
   "outputs": [],
   "source": [
    "evaluation_recommendation(experiment_df, ratings_df)"
   ]
  },
  {
   "cell_type": "code",
   "execution_count": 43,
   "metadata": {},
   "outputs": [
    {
     "name": "stdout",
     "output_type": "stream",
     "text": [
      "Starting the task 1...\n",
      "Starting the task 2...\n",
      "Starting the task 3...\n",
      "Starting the task 4...\n",
      "Starting the task 5...\n",
      "Starting the task 6...\n",
      "Starting the task 7...\n",
      "Starting the task 8...\n",
      "Done with task 1\n",
      "Done with task 2\n",
      "Done with task 3\n",
      "Done with task 4\n",
      "Done with task 5\n",
      "Done with task 6\n",
      "Done with task 7\n",
      "Done with task 8\n",
      "It took 8.012819829000364 second(s) to finish.\n"
     ]
    }
   ],
   "source": [
    "from time import sleep, perf_counter\n",
    "from concurrent.futures import ThreadPoolExecutor\n",
    "\n",
    "\n",
    "def task(id):\n",
    "    print(f'Starting the task {id}...')\n",
    "    sleep(id)\n",
    "    return f'Done with task {id}'\n",
    "\n",
    "start = perf_counter()\n",
    "\n",
    "with ThreadPoolExecutor() as executor:\n",
    "    results = executor.map(task, [1,2,3,4,5,6,7,8])\n",
    "    for result in results:\n",
    "        print(result)\n",
    "\n",
    "finish = perf_counter()\n",
    "\n",
    "print(f\"It took {finish-start} second(s) to finish.\")"
   ]
  }
 ],
 "metadata": {
  "kernelspec": {
   "display_name": "Python 3.9.13 ('tccenv')",
   "language": "python",
   "name": "python3"
  },
  "language_info": {
   "codemirror_mode": {
    "name": "ipython",
    "version": 3
   },
   "file_extension": ".py",
   "mimetype": "text/x-python",
   "name": "python",
   "nbconvert_exporter": "python",
   "pygments_lexer": "ipython3",
   "version": "3.9.13"
  },
  "orig_nbformat": 4,
  "vscode": {
   "interpreter": {
    "hash": "9e1b49217fe1f6e7052c73d461b10e73d2c8e219de20ecc2f118f6b9f672e67d"
   }
  }
 },
 "nbformat": 4,
 "nbformat_minor": 2
}

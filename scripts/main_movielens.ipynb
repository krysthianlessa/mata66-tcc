{
 "cells": [
  {
   "cell_type": "code",
   "execution_count": 1,
   "metadata": {},
   "outputs": [],
   "source": [
    "import string\n",
    "\n",
    "import pandas as pd\n",
    "import numpy as np\n",
    "from nltk import word_tokenize\n",
    "from nltk.corpus import stopwords\n",
    "from nltk.stem import PorterStemmer, WordNetLemmatizer\n",
    "from rake_nltk import Rake\n",
    "from sklearn.feature_extraction.text import CountVectorizer\n",
    "from sklearn.metrics.pairwise import cosine_similarity\n",
    "from unidecode import unidecode"
   ]
  },
  {
   "cell_type": "code",
   "execution_count": 2,
   "metadata": {},
   "outputs": [],
   "source": [
    "def pre_process(corpus, stop_words_remv = True, lemmatizetion = True, stemmization = True):\n",
    "    corpus = corpus.lower()\n",
    "    stopset = None\n",
    "    if (stop_words_remv):\n",
    "        stopset = stopwords.words('english')\n",
    "        stopset += list(string.punctuation)\n",
    "\n",
    "    if (lemmatizetion):\n",
    "        lemmatizer = WordNetLemmatizer()\n",
    "        corpus = \" \".join([lemmatizer.lemmatize(i) for i in word_tokenize(corpus) if i not in stopset])\n",
    "    \n",
    "    if (stemmization):\n",
    "        stemmer = PorterStemmer()\n",
    "        corpus = \" \".join([stemmer.stem(i) for i in word_tokenize(corpus)])\n",
    "    \n",
    "    # remove non-ascii characters\n",
    "    corpus = unidecode(corpus)\n",
    "    \n",
    "    return corpus"
   ]
  },
  {
   "cell_type": "code",
   "execution_count": 3,
   "metadata": {},
   "outputs": [
    {
     "data": {
      "text/html": [
       "<div>\n",
       "<style scoped>\n",
       "    .dataframe tbody tr th:only-of-type {\n",
       "        vertical-align: middle;\n",
       "    }\n",
       "\n",
       "    .dataframe tbody tr th {\n",
       "        vertical-align: top;\n",
       "    }\n",
       "\n",
       "    .dataframe thead th {\n",
       "        text-align: right;\n",
       "    }\n",
       "</style>\n",
       "<table border=\"1\" class=\"dataframe\">\n",
       "  <thead>\n",
       "    <tr style=\"text-align: right;\">\n",
       "      <th></th>\n",
       "      <th>movieId</th>\n",
       "      <th>title</th>\n",
       "      <th>genres</th>\n",
       "    </tr>\n",
       "  </thead>\n",
       "  <tbody>\n",
       "    <tr>\n",
       "      <th>0</th>\n",
       "      <td>1</td>\n",
       "      <td>Toy Story (1995)</td>\n",
       "      <td>Adventure|Animation|Children|Comedy|Fantasy</td>\n",
       "    </tr>\n",
       "    <tr>\n",
       "      <th>1</th>\n",
       "      <td>2</td>\n",
       "      <td>Jumanji (1995)</td>\n",
       "      <td>Adventure|Children|Fantasy</td>\n",
       "    </tr>\n",
       "    <tr>\n",
       "      <th>2</th>\n",
       "      <td>3</td>\n",
       "      <td>Grumpier Old Men (1995)</td>\n",
       "      <td>Comedy|Romance</td>\n",
       "    </tr>\n",
       "    <tr>\n",
       "      <th>3</th>\n",
       "      <td>4</td>\n",
       "      <td>Waiting to Exhale (1995)</td>\n",
       "      <td>Comedy|Drama|Romance</td>\n",
       "    </tr>\n",
       "    <tr>\n",
       "      <th>4</th>\n",
       "      <td>5</td>\n",
       "      <td>Father of the Bride Part II (1995)</td>\n",
       "      <td>Comedy</td>\n",
       "    </tr>\n",
       "  </tbody>\n",
       "</table>\n",
       "</div>"
      ],
      "text/plain": [
       "   movieId                               title  \\\n",
       "0        1                    Toy Story (1995)   \n",
       "1        2                      Jumanji (1995)   \n",
       "2        3             Grumpier Old Men (1995)   \n",
       "3        4            Waiting to Exhale (1995)   \n",
       "4        5  Father of the Bride Part II (1995)   \n",
       "\n",
       "                                        genres  \n",
       "0  Adventure|Animation|Children|Comedy|Fantasy  \n",
       "1                   Adventure|Children|Fantasy  \n",
       "2                               Comedy|Romance  \n",
       "3                         Comedy|Drama|Romance  \n",
       "4                                       Comedy  "
      ]
     },
     "execution_count": 3,
     "metadata": {},
     "output_type": "execute_result"
    }
   ],
   "source": [
    "movies_df = pd.read_csv('../data/movies.csv')\n",
    "movies_df.head()"
   ]
  },
  {
   "cell_type": "code",
   "execution_count": 4,
   "metadata": {},
   "outputs": [
    {
     "data": {
      "text/html": [
       "<div>\n",
       "<style scoped>\n",
       "    .dataframe tbody tr th:only-of-type {\n",
       "        vertical-align: middle;\n",
       "    }\n",
       "\n",
       "    .dataframe tbody tr th {\n",
       "        vertical-align: top;\n",
       "    }\n",
       "\n",
       "    .dataframe thead th {\n",
       "        text-align: right;\n",
       "    }\n",
       "</style>\n",
       "<table border=\"1\" class=\"dataframe\">\n",
       "  <thead>\n",
       "    <tr style=\"text-align: right;\">\n",
       "      <th></th>\n",
       "      <th>tmdbId</th>\n",
       "      <th>movieId</th>\n",
       "      <th>imdbId</th>\n",
       "      <th>overview</th>\n",
       "    </tr>\n",
       "  </thead>\n",
       "  <tbody>\n",
       "    <tr>\n",
       "      <th>0</th>\n",
       "      <td>862</td>\n",
       "      <td>1</td>\n",
       "      <td>114709</td>\n",
       "      <td>Led by Woody, Andy's toys live happily in his ...</td>\n",
       "    </tr>\n",
       "    <tr>\n",
       "      <th>1</th>\n",
       "      <td>8844</td>\n",
       "      <td>2</td>\n",
       "      <td>113497</td>\n",
       "      <td>When siblings Judy and Peter discover an encha...</td>\n",
       "    </tr>\n",
       "    <tr>\n",
       "      <th>2</th>\n",
       "      <td>15602</td>\n",
       "      <td>3</td>\n",
       "      <td>113228</td>\n",
       "      <td>A family wedding reignites the ancient feud be...</td>\n",
       "    </tr>\n",
       "    <tr>\n",
       "      <th>3</th>\n",
       "      <td>31357</td>\n",
       "      <td>4</td>\n",
       "      <td>114885</td>\n",
       "      <td>Cheated on, mistreated and stepped on, the wom...</td>\n",
       "    </tr>\n",
       "    <tr>\n",
       "      <th>4</th>\n",
       "      <td>11862</td>\n",
       "      <td>5</td>\n",
       "      <td>113041</td>\n",
       "      <td>Just when George Banks has recovered from his ...</td>\n",
       "    </tr>\n",
       "  </tbody>\n",
       "</table>\n",
       "</div>"
      ],
      "text/plain": [
       "   tmdbId  movieId  imdbId                                           overview\n",
       "0     862        1  114709  Led by Woody, Andy's toys live happily in his ...\n",
       "1    8844        2  113497  When siblings Judy and Peter discover an encha...\n",
       "2   15602        3  113228  A family wedding reignites the ancient feud be...\n",
       "3   31357        4  114885  Cheated on, mistreated and stepped on, the wom...\n",
       "4   11862        5  113041  Just when George Banks has recovered from his ..."
      ]
     },
     "execution_count": 4,
     "metadata": {},
     "output_type": "execute_result"
    }
   ],
   "source": [
    "overview_df = pd.read_csv('../data/overviews.csv')\n",
    "overview_df.head()"
   ]
  },
  {
   "cell_type": "code",
   "execution_count": 5,
   "metadata": {},
   "outputs": [
    {
     "data": {
      "text/plain": [
       "(27278, 3)"
      ]
     },
     "execution_count": 5,
     "metadata": {},
     "output_type": "execute_result"
    }
   ],
   "source": [
    "movies_df.shape"
   ]
  },
  {
   "cell_type": "code",
   "execution_count": 6,
   "metadata": {},
   "outputs": [
    {
     "data": {
      "text/plain": [
       "(26657, 4)"
      ]
     },
     "execution_count": 6,
     "metadata": {},
     "output_type": "execute_result"
    }
   ],
   "source": [
    "overview_df.shape"
   ]
  },
  {
   "cell_type": "code",
   "execution_count": 60,
   "metadata": {},
   "outputs": [],
   "source": [
    "experiment_df = overview_df.set_index('movieId').join(movies_df.set_index('movieId'), how='left')"
   ]
  },
  {
   "cell_type": "code",
   "execution_count": 61,
   "metadata": {},
   "outputs": [
    {
     "data": {
      "text/html": [
       "<div>\n",
       "<style scoped>\n",
       "    .dataframe tbody tr th:only-of-type {\n",
       "        vertical-align: middle;\n",
       "    }\n",
       "\n",
       "    .dataframe tbody tr th {\n",
       "        vertical-align: top;\n",
       "    }\n",
       "\n",
       "    .dataframe thead th {\n",
       "        text-align: right;\n",
       "    }\n",
       "</style>\n",
       "<table border=\"1\" class=\"dataframe\">\n",
       "  <thead>\n",
       "    <tr style=\"text-align: right;\">\n",
       "      <th></th>\n",
       "      <th>movieId</th>\n",
       "      <th>tmdbId</th>\n",
       "      <th>imdbId</th>\n",
       "      <th>overview</th>\n",
       "      <th>title</th>\n",
       "      <th>genres</th>\n",
       "    </tr>\n",
       "  </thead>\n",
       "  <tbody>\n",
       "    <tr>\n",
       "      <th>0</th>\n",
       "      <td>1</td>\n",
       "      <td>862</td>\n",
       "      <td>114709</td>\n",
       "      <td>Led by Woody, Andy's toys live happily in his ...</td>\n",
       "      <td>Toy Story (1995)</td>\n",
       "      <td>Adventure|Animation|Children|Comedy|Fantasy</td>\n",
       "    </tr>\n",
       "    <tr>\n",
       "      <th>1</th>\n",
       "      <td>2</td>\n",
       "      <td>8844</td>\n",
       "      <td>113497</td>\n",
       "      <td>When siblings Judy and Peter discover an encha...</td>\n",
       "      <td>Jumanji (1995)</td>\n",
       "      <td>Adventure|Children|Fantasy</td>\n",
       "    </tr>\n",
       "    <tr>\n",
       "      <th>2</th>\n",
       "      <td>3</td>\n",
       "      <td>15602</td>\n",
       "      <td>113228</td>\n",
       "      <td>A family wedding reignites the ancient feud be...</td>\n",
       "      <td>Grumpier Old Men (1995)</td>\n",
       "      <td>Comedy|Romance</td>\n",
       "    </tr>\n",
       "    <tr>\n",
       "      <th>3</th>\n",
       "      <td>4</td>\n",
       "      <td>31357</td>\n",
       "      <td>114885</td>\n",
       "      <td>Cheated on, mistreated and stepped on, the wom...</td>\n",
       "      <td>Waiting to Exhale (1995)</td>\n",
       "      <td>Comedy|Drama|Romance</td>\n",
       "    </tr>\n",
       "    <tr>\n",
       "      <th>4</th>\n",
       "      <td>5</td>\n",
       "      <td>11862</td>\n",
       "      <td>113041</td>\n",
       "      <td>Just when George Banks has recovered from his ...</td>\n",
       "      <td>Father of the Bride Part II (1995)</td>\n",
       "      <td>Comedy</td>\n",
       "    </tr>\n",
       "  </tbody>\n",
       "</table>\n",
       "</div>"
      ],
      "text/plain": [
       "   movieId  tmdbId  imdbId                                           overview  \\\n",
       "0        1     862  114709  Led by Woody, Andy's toys live happily in his ...   \n",
       "1        2    8844  113497  When siblings Judy and Peter discover an encha...   \n",
       "2        3   15602  113228  A family wedding reignites the ancient feud be...   \n",
       "3        4   31357  114885  Cheated on, mistreated and stepped on, the wom...   \n",
       "4        5   11862  113041  Just when George Banks has recovered from his ...   \n",
       "\n",
       "                                title  \\\n",
       "0                    Toy Story (1995)   \n",
       "1                      Jumanji (1995)   \n",
       "2             Grumpier Old Men (1995)   \n",
       "3            Waiting to Exhale (1995)   \n",
       "4  Father of the Bride Part II (1995)   \n",
       "\n",
       "                                        genres  \n",
       "0  Adventure|Animation|Children|Comedy|Fantasy  \n",
       "1                   Adventure|Children|Fantasy  \n",
       "2                               Comedy|Romance  \n",
       "3                         Comedy|Drama|Romance  \n",
       "4                                       Comedy  "
      ]
     },
     "execution_count": 61,
     "metadata": {},
     "output_type": "execute_result"
    }
   ],
   "source": [
    "experiment_df.reset_index(inplace=True)\n",
    "experiment_df.head()"
   ]
  },
  {
   "cell_type": "code",
   "execution_count": 62,
   "metadata": {},
   "outputs": [
    {
     "name": "stderr",
     "output_type": "stream",
     "text": [
      "/tmp/ipykernel_460669/3461544993.py:3: SettingWithCopyWarning: \n",
      "A value is trying to be set on a copy of a slice from a DataFrame\n",
      "\n",
      "See the caveats in the documentation: https://pandas.pydata.org/pandas-docs/stable/user_guide/indexing.html#returning-a-view-versus-a-copy\n",
      "  experiment_df['genres'].iloc[index] = ''\n"
     ]
    }
   ],
   "source": [
    "for index, row in experiment_df.iterrows():\n",
    "    if row['genres'] == '(no genres listed)':\n",
    "        experiment_df['genres'].iloc[index] = ''"
   ]
  },
  {
   "cell_type": "code",
   "execution_count": 63,
   "metadata": {},
   "outputs": [],
   "source": [
    "# colocando os gêneros em uma lista de palavras\n",
    "experiment_df['genres'] = experiment_df['genres'].map(lambda x: x.lower().split('|'))"
   ]
  },
  {
   "cell_type": "code",
   "execution_count": 64,
   "metadata": {},
   "outputs": [
    {
     "data": {
      "text/html": [
       "<div>\n",
       "<style scoped>\n",
       "    .dataframe tbody tr th:only-of-type {\n",
       "        vertical-align: middle;\n",
       "    }\n",
       "\n",
       "    .dataframe tbody tr th {\n",
       "        vertical-align: top;\n",
       "    }\n",
       "\n",
       "    .dataframe thead th {\n",
       "        text-align: right;\n",
       "    }\n",
       "</style>\n",
       "<table border=\"1\" class=\"dataframe\">\n",
       "  <thead>\n",
       "    <tr style=\"text-align: right;\">\n",
       "      <th></th>\n",
       "      <th>overview</th>\n",
       "      <th>title</th>\n",
       "      <th>genres</th>\n",
       "    </tr>\n",
       "    <tr>\n",
       "      <th>movieId</th>\n",
       "      <th></th>\n",
       "      <th></th>\n",
       "      <th></th>\n",
       "    </tr>\n",
       "  </thead>\n",
       "  <tbody>\n",
       "    <tr>\n",
       "      <th>1</th>\n",
       "      <td>Led by Woody, Andy's toys live happily in his ...</td>\n",
       "      <td>Toy Story (1995)</td>\n",
       "      <td>[adventure, animation, children, comedy, fantasy]</td>\n",
       "    </tr>\n",
       "    <tr>\n",
       "      <th>2</th>\n",
       "      <td>When siblings Judy and Peter discover an encha...</td>\n",
       "      <td>Jumanji (1995)</td>\n",
       "      <td>[adventure, children, fantasy]</td>\n",
       "    </tr>\n",
       "    <tr>\n",
       "      <th>3</th>\n",
       "      <td>A family wedding reignites the ancient feud be...</td>\n",
       "      <td>Grumpier Old Men (1995)</td>\n",
       "      <td>[comedy, romance]</td>\n",
       "    </tr>\n",
       "    <tr>\n",
       "      <th>4</th>\n",
       "      <td>Cheated on, mistreated and stepped on, the wom...</td>\n",
       "      <td>Waiting to Exhale (1995)</td>\n",
       "      <td>[comedy, drama, romance]</td>\n",
       "    </tr>\n",
       "    <tr>\n",
       "      <th>5</th>\n",
       "      <td>Just when George Banks has recovered from his ...</td>\n",
       "      <td>Father of the Bride Part II (1995)</td>\n",
       "      <td>[comedy]</td>\n",
       "    </tr>\n",
       "  </tbody>\n",
       "</table>\n",
       "</div>"
      ],
      "text/plain": [
       "                                                  overview  \\\n",
       "movieId                                                      \n",
       "1        Led by Woody, Andy's toys live happily in his ...   \n",
       "2        When siblings Judy and Peter discover an encha...   \n",
       "3        A family wedding reignites the ancient feud be...   \n",
       "4        Cheated on, mistreated and stepped on, the wom...   \n",
       "5        Just when George Banks has recovered from his ...   \n",
       "\n",
       "                                      title  \\\n",
       "movieId                                       \n",
       "1                          Toy Story (1995)   \n",
       "2                            Jumanji (1995)   \n",
       "3                   Grumpier Old Men (1995)   \n",
       "4                  Waiting to Exhale (1995)   \n",
       "5        Father of the Bride Part II (1995)   \n",
       "\n",
       "                                                    genres  \n",
       "movieId                                                     \n",
       "1        [adventure, animation, children, comedy, fantasy]  \n",
       "2                           [adventure, children, fantasy]  \n",
       "3                                        [comedy, romance]  \n",
       "4                                 [comedy, drama, romance]  \n",
       "5                                                 [comedy]  "
      ]
     },
     "execution_count": 64,
     "metadata": {},
     "output_type": "execute_result"
    }
   ],
   "source": [
    "experiment_df.drop(columns=['tmdbId', 'imdbId'], inplace=True)\n",
    "experiment_df.set_index('movieId', inplace=True)\n",
    "experiment_df.head()"
   ]
  },
  {
   "cell_type": "code",
   "execution_count": 66,
   "metadata": {},
   "outputs": [],
   "source": [
    "# aplicando o pré-processamento\n",
    "for index, row in experiment_df.iterrows():\n",
    "    overview = row['overview']\n",
    "    row['overview'] = pre_process(overview)"
   ]
  },
  {
   "cell_type": "code",
   "execution_count": 67,
   "metadata": {},
   "outputs": [
    {
     "data": {
      "text/html": [
       "<div>\n",
       "<style scoped>\n",
       "    .dataframe tbody tr th:only-of-type {\n",
       "        vertical-align: middle;\n",
       "    }\n",
       "\n",
       "    .dataframe tbody tr th {\n",
       "        vertical-align: top;\n",
       "    }\n",
       "\n",
       "    .dataframe thead th {\n",
       "        text-align: right;\n",
       "    }\n",
       "</style>\n",
       "<table border=\"1\" class=\"dataframe\">\n",
       "  <thead>\n",
       "    <tr style=\"text-align: right;\">\n",
       "      <th></th>\n",
       "      <th>overview</th>\n",
       "      <th>title</th>\n",
       "      <th>genres</th>\n",
       "    </tr>\n",
       "    <tr>\n",
       "      <th>movieId</th>\n",
       "      <th></th>\n",
       "      <th></th>\n",
       "      <th></th>\n",
       "    </tr>\n",
       "  </thead>\n",
       "  <tbody>\n",
       "    <tr>\n",
       "      <th>1</th>\n",
       "      <td>led woodi andi 's toy live happili room andi '...</td>\n",
       "      <td>Toy Story (1995)</td>\n",
       "      <td>[adventure, animation, children, comedy, fantasy]</td>\n",
       "    </tr>\n",
       "    <tr>\n",
       "      <th>2</th>\n",
       "      <td>sibl judi peter discov enchant board game open...</td>\n",
       "      <td>Jumanji (1995)</td>\n",
       "      <td>[adventure, children, fantasy]</td>\n",
       "    </tr>\n",
       "    <tr>\n",
       "      <th>3</th>\n",
       "      <td>famili wed reignit ancient feud next-door neig...</td>\n",
       "      <td>Grumpier Old Men (1995)</td>\n",
       "      <td>[comedy, romance]</td>\n",
       "    </tr>\n",
       "    <tr>\n",
       "      <th>4</th>\n",
       "      <td>cheat mistreat step woman hold breath wait elu...</td>\n",
       "      <td>Waiting to Exhale (1995)</td>\n",
       "      <td>[comedy, drama, romance]</td>\n",
       "    </tr>\n",
       "    <tr>\n",
       "      <th>5</th>\n",
       "      <td>georg bank recov daughter 's wed receiv news '...</td>\n",
       "      <td>Father of the Bride Part II (1995)</td>\n",
       "      <td>[comedy]</td>\n",
       "    </tr>\n",
       "  </tbody>\n",
       "</table>\n",
       "</div>"
      ],
      "text/plain": [
       "                                                  overview  \\\n",
       "movieId                                                      \n",
       "1        led woodi andi 's toy live happili room andi '...   \n",
       "2        sibl judi peter discov enchant board game open...   \n",
       "3        famili wed reignit ancient feud next-door neig...   \n",
       "4        cheat mistreat step woman hold breath wait elu...   \n",
       "5        georg bank recov daughter 's wed receiv news '...   \n",
       "\n",
       "                                      title  \\\n",
       "movieId                                       \n",
       "1                          Toy Story (1995)   \n",
       "2                            Jumanji (1995)   \n",
       "3                   Grumpier Old Men (1995)   \n",
       "4                  Waiting to Exhale (1995)   \n",
       "5        Father of the Bride Part II (1995)   \n",
       "\n",
       "                                                    genres  \n",
       "movieId                                                     \n",
       "1        [adventure, animation, children, comedy, fantasy]  \n",
       "2                           [adventure, children, fantasy]  \n",
       "3                                        [comedy, romance]  \n",
       "4                                 [comedy, drama, romance]  \n",
       "5                                                 [comedy]  "
      ]
     },
     "execution_count": 67,
     "metadata": {},
     "output_type": "execute_result"
    }
   ],
   "source": [
    "experiment_df.head()"
   ]
  },
  {
   "cell_type": "code",
   "execution_count": 68,
   "metadata": {},
   "outputs": [],
   "source": [
    "#iniciando uma nova coluna\n",
    "experiment_df['key_words'] = ''"
   ]
  },
  {
   "cell_type": "code",
   "execution_count": 69,
   "metadata": {},
   "outputs": [],
   "source": [
    "for index, row in experiment_df.iterrows():\n",
    "    overview = row['overview']\n",
    "\n",
    "    # instanciando Rake, por padrão usa palavras irrelevantes em inglês do NLTK \n",
    "    # e descarta todos os caracteres de pontuação\n",
    "    r = Rake()\n",
    "\n",
    "    # extraindo as palavras passando o texto\n",
    "    r.extract_keywords_from_text(overview)\n",
    "\n",
    "    # obtendo o dicionário com palavras-chave e suas pontuações\n",
    "    key_words_dict_scores = r.get_word_degrees()\n",
    "\n",
    "    # atribuindo as palavras-chave à nova coluna\n",
    "    row['key_words'] = list(key_words_dict_scores.keys())"
   ]
  },
  {
   "cell_type": "code",
   "execution_count": 70,
   "metadata": {},
   "outputs": [
    {
     "data": {
      "text/html": [
       "<div>\n",
       "<style scoped>\n",
       "    .dataframe tbody tr th:only-of-type {\n",
       "        vertical-align: middle;\n",
       "    }\n",
       "\n",
       "    .dataframe tbody tr th {\n",
       "        vertical-align: top;\n",
       "    }\n",
       "\n",
       "    .dataframe thead th {\n",
       "        text-align: right;\n",
       "    }\n",
       "</style>\n",
       "<table border=\"1\" class=\"dataframe\">\n",
       "  <thead>\n",
       "    <tr style=\"text-align: right;\">\n",
       "      <th></th>\n",
       "      <th>title</th>\n",
       "      <th>genres</th>\n",
       "      <th>key_words</th>\n",
       "    </tr>\n",
       "    <tr>\n",
       "      <th>movieId</th>\n",
       "      <th></th>\n",
       "      <th></th>\n",
       "      <th></th>\n",
       "    </tr>\n",
       "  </thead>\n",
       "  <tbody>\n",
       "    <tr>\n",
       "      <th>1</th>\n",
       "      <td>Toy Story (1995)</td>\n",
       "      <td>[adventure, animation, children, comedy, fantasy]</td>\n",
       "      <td>[led, woodi, andi, toy, live, happili, room, b...</td>\n",
       "    </tr>\n",
       "    <tr>\n",
       "      <th>2</th>\n",
       "      <td>Jumanji (1995)</td>\n",
       "      <td>[adventure, children, fantasy]</td>\n",
       "      <td>[sibl, judi, peter, discov, enchant, board, ga...</td>\n",
       "    </tr>\n",
       "    <tr>\n",
       "      <th>3</th>\n",
       "      <td>Grumpier Old Men (1995)</td>\n",
       "      <td>[comedy, romance]</td>\n",
       "      <td>[famili, wed, reignit, ancient, feud, next, do...</td>\n",
       "    </tr>\n",
       "    <tr>\n",
       "      <th>4</th>\n",
       "      <td>Waiting to Exhale (1995)</td>\n",
       "      <td>[comedy, drama, romance]</td>\n",
       "      <td>[cheat, mistreat, step, woman, hold, breath, w...</td>\n",
       "    </tr>\n",
       "    <tr>\n",
       "      <th>5</th>\n",
       "      <td>Father of the Bride Part II (1995)</td>\n",
       "      <td>[comedy]</td>\n",
       "      <td>[georg, bank, recov, daughter, wed, receiv, ne...</td>\n",
       "    </tr>\n",
       "  </tbody>\n",
       "</table>\n",
       "</div>"
      ],
      "text/plain": [
       "                                      title  \\\n",
       "movieId                                       \n",
       "1                          Toy Story (1995)   \n",
       "2                            Jumanji (1995)   \n",
       "3                   Grumpier Old Men (1995)   \n",
       "4                  Waiting to Exhale (1995)   \n",
       "5        Father of the Bride Part II (1995)   \n",
       "\n",
       "                                                    genres  \\\n",
       "movieId                                                      \n",
       "1        [adventure, animation, children, comedy, fantasy]   \n",
       "2                           [adventure, children, fantasy]   \n",
       "3                                        [comedy, romance]   \n",
       "4                                 [comedy, drama, romance]   \n",
       "5                                                 [comedy]   \n",
       "\n",
       "                                                 key_words  \n",
       "movieId                                                     \n",
       "1        [led, woodi, andi, toy, live, happili, room, b...  \n",
       "2        [sibl, judi, peter, discov, enchant, board, ga...  \n",
       "3        [famili, wed, reignit, ancient, feud, next, do...  \n",
       "4        [cheat, mistreat, step, woman, hold, breath, w...  \n",
       "5        [georg, bank, recov, daughter, wed, receiv, ne...  "
      ]
     },
     "execution_count": 70,
     "metadata": {},
     "output_type": "execute_result"
    }
   ],
   "source": [
    "#descartando a coluna overview\n",
    "experiment_df.drop(columns=['overview'], inplace = True)\n",
    "experiment_df.head()"
   ]
  },
  {
   "cell_type": "code",
   "execution_count": 71,
   "metadata": {},
   "outputs": [
    {
     "data": {
      "text/html": [
       "<div>\n",
       "<style scoped>\n",
       "    .dataframe tbody tr th:only-of-type {\n",
       "        vertical-align: middle;\n",
       "    }\n",
       "\n",
       "    .dataframe tbody tr th {\n",
       "        vertical-align: top;\n",
       "    }\n",
       "\n",
       "    .dataframe thead th {\n",
       "        text-align: right;\n",
       "    }\n",
       "</style>\n",
       "<table border=\"1\" class=\"dataframe\">\n",
       "  <thead>\n",
       "    <tr style=\"text-align: right;\">\n",
       "      <th></th>\n",
       "      <th>title</th>\n",
       "      <th>bag_of_words</th>\n",
       "    </tr>\n",
       "    <tr>\n",
       "      <th>movieId</th>\n",
       "      <th></th>\n",
       "      <th></th>\n",
       "    </tr>\n",
       "  </thead>\n",
       "  <tbody>\n",
       "    <tr>\n",
       "      <th>1</th>\n",
       "      <td>Toy Story (1995)</td>\n",
       "      <td>adventure animation children comedy fantasy le...</td>\n",
       "    </tr>\n",
       "    <tr>\n",
       "      <th>2</th>\n",
       "      <td>Jumanji (1995)</td>\n",
       "      <td>adventure children fantasy sibl judi peter dis...</td>\n",
       "    </tr>\n",
       "    <tr>\n",
       "      <th>3</th>\n",
       "      <td>Grumpier Old Men (1995)</td>\n",
       "      <td>comedy romance famili wed reignit ancient feud...</td>\n",
       "    </tr>\n",
       "    <tr>\n",
       "      <th>4</th>\n",
       "      <td>Waiting to Exhale (1995)</td>\n",
       "      <td>comedy drama romance cheat mistreat step woman...</td>\n",
       "    </tr>\n",
       "    <tr>\n",
       "      <th>5</th>\n",
       "      <td>Father of the Bride Part II (1995)</td>\n",
       "      <td>comedy georg bank recov daughter wed receiv ne...</td>\n",
       "    </tr>\n",
       "  </tbody>\n",
       "</table>\n",
       "</div>"
      ],
      "text/plain": [
       "                                      title  \\\n",
       "movieId                                       \n",
       "1                          Toy Story (1995)   \n",
       "2                            Jumanji (1995)   \n",
       "3                   Grumpier Old Men (1995)   \n",
       "4                  Waiting to Exhale (1995)   \n",
       "5        Father of the Bride Part II (1995)   \n",
       "\n",
       "                                              bag_of_words  \n",
       "movieId                                                     \n",
       "1        adventure animation children comedy fantasy le...  \n",
       "2        adventure children fantasy sibl judi peter dis...  \n",
       "3        comedy romance famili wed reignit ancient feud...  \n",
       "4        comedy drama romance cheat mistreat step woman...  \n",
       "5        comedy georg bank recov daughter wed receiv ne...  "
      ]
     },
     "execution_count": 71,
     "metadata": {},
     "output_type": "execute_result"
    }
   ],
   "source": [
    "experiment_df['bag_of_words'] = ''\n",
    "columns = experiment_df.columns\n",
    "\n",
    "for index, row in experiment_df.iterrows():\n",
    "    words = ''\n",
    "    for col in columns:\n",
    "        if col != 'title':\n",
    "            words = words + ' '.join(row[col])+ ' '\n",
    "    row['bag_of_words'] = words\n",
    "    \n",
    "experiment_df.drop(columns = [col for col in experiment_df.columns if col != 'bag_of_words' and col != 'title'], inplace = True)\n",
    "\n",
    "experiment_df.head()"
   ]
  },
  {
   "cell_type": "code",
   "execution_count": 73,
   "metadata": {},
   "outputs": [],
   "source": [
    "# instanciando e gerando a matriz de contagem\n",
    "count = CountVectorizer()\n",
    "count_matrix = count.fit_transform(experiment_df['bag_of_words'])"
   ]
  },
  {
   "cell_type": "code",
   "execution_count": 74,
   "metadata": {},
   "outputs": [
    {
     "data": {
      "text/plain": [
       "<26657x37936 sparse matrix of type '<class 'numpy.int64'>'\n",
       "\twith 770757 stored elements in Compressed Sparse Row format>"
      ]
     },
     "execution_count": 74,
     "metadata": {},
     "output_type": "execute_result"
    }
   ],
   "source": [
    "count_matrix"
   ]
  },
  {
   "cell_type": "code",
   "execution_count": 87,
   "metadata": {},
   "outputs": [
    {
     "data": {
      "text/plain": [
       "0             1\n",
       "1             2\n",
       "2             3\n",
       "3             4\n",
       "4             5\n",
       "          ...  \n",
       "26652    131254\n",
       "26653    131256\n",
       "26654    131258\n",
       "26655    131260\n",
       "26656    131262\n",
       "Name: movieId, Length: 26657, dtype: int64"
      ]
     },
     "execution_count": 87,
     "metadata": {},
     "output_type": "execute_result"
    }
   ],
   "source": [
    "\n",
    "# criando uma Série para os títulos dos filmes para que sejam associados a uma \n",
    "# lista numérica ordenada que usarei posteriormente para corresponder aos índices\n",
    "indexes = pd.Series(experiment_df.index)\n",
    "indexes"
   ]
  },
  {
   "cell_type": "code",
   "execution_count": 80,
   "metadata": {},
   "outputs": [
    {
     "data": {
      "text/plain": [
       "array([[1.        , 0.14338483, 0.03077287, ..., 0.0521286 , 0.        ,\n",
       "        0.10825318],\n",
       "       [0.14338483, 1.        , 0.05647825, ..., 0.04783649, 0.        ,\n",
       "        0.09933993],\n",
       "       [0.03077287, 0.05647825, 1.        , ..., 0.        , 0.        ,\n",
       "        0.        ],\n",
       "       ...,\n",
       "       [0.0521286 , 0.04783649, 0.        , ..., 1.        , 0.        ,\n",
       "        0.03009646],\n",
       "       [0.        , 0.        , 0.        , ..., 0.        , 1.        ,\n",
       "        0.        ],\n",
       "       [0.10825318, 0.09933993, 0.        , ..., 0.03009646, 0.        ,\n",
       "        1.        ]])"
      ]
     },
     "execution_count": 80,
     "metadata": {},
     "output_type": "execute_result"
    }
   ],
   "source": [
    "# gerando a matriz de similaridade de cosseno\n",
    "cosine_sim = cosine_similarity(count_matrix, count_matrix)\n",
    "cosine_sim"
   ]
  },
  {
   "cell_type": "code",
   "execution_count": 85,
   "metadata": {},
   "outputs": [],
   "source": [
    "def get_similarity(movies_interacteds, movies_not_interacteds, movies_ids, cosine_similarity):\n",
    "        \n",
    "    # obtendo os índices dos filmes interagidos\n",
    "    indexes_interact = []\n",
    "    for movie_id in movies_interacteds:\n",
    "        indexes_interact.append(movies_ids[movies_ids == movie_id].index[0])\n",
    "\n",
    "    # obtendo os índices dos filmes não interagidos\n",
    "    indexes_not_interact = [idx for idx in list(movies_ids.index) if idx not in indexes_interact]\n",
    "\n",
    "    similarity_non_interacted_items = {}\n",
    "\n",
    "    # pegando lista de similaridades dos itens não interagidos\n",
    "    for idx in indexes_not_interact:\n",
    "        similarity_non_interacted_items[idx] = cosine_similarity[idx]\n",
    "\n",
    "    # zerando a similaridade dos itens interagidos nas listas de similaridade dos itens não interagidos\n",
    "    for key, similarity_list in similarity_non_interacted_items.items():\n",
    "        similarity_list[key] = 0.0\n",
    "        for index in indexes_interact:\n",
    "            similarity_list[index] = 0.0\n",
    "\n",
    "    #cria dicionário para armazenar as médias\n",
    "    average_similarity = {}\n",
    "    for idx in indexes_not_interact:\n",
    "        average_similarity[idx] = 0.0\n",
    "\n",
    "    # obtendo a similaridade média\n",
    "    num_of_items = len(movies_not_interacteds)\n",
    "    sum_similarity = np.array([0.0] * num_of_items)\n",
    "    for similarity_item in similarity_non_interacted_items:\n",
    "        sum_similarity += np.array(similarity_item)\n",
    "\n",
    "    average_similarity = sum_similarity / num_of_items\n",
    "\n",
    "    items_more_similar = pd.Series(average_similarity).sort_values(ascending = False)\n",
    "\n",
    "    # pegando o top 10 indices de filmes mais similares\n",
    "    top_10_indexes = list(items_more_similar.iloc[0:10].index)\n"
   ]
  },
  {
   "cell_type": "code",
   "execution_count": 132,
   "metadata": {},
   "outputs": [],
   "source": [
    "def get_id(item, ids_series):\n",
    "    return ids_series[ids_series == item].index[0]\n"
   ]
  },
  {
   "cell_type": "code",
   "execution_count": 187,
   "metadata": {},
   "outputs": [],
   "source": [
    "def get_similarity(movies_interacteds, movies_not_interacteds, movies_ids, cosine_similarity):\n",
    "\n",
    "    similarity_non_interacted_items = {}\n",
    "\n",
    "    # pegando lista de similaridades dos itens não interagidos\n",
    "    for movie_id in movies_not_interacteds:\n",
    "        similarity_non_interacted_items[movie_id] = cosine_similarity[get_id(movie_id, movies_ids)]\n",
    "\n",
    "    # zerando a similaridade dos itens interagidos nas listas de similaridade dos itens não interagidos\n",
    "    for movie, similarity_list in similarity_non_interacted_items.items():\n",
    "        similarity_list[get_id(movie, movies_ids)] = 0.0\n",
    "        for movie_id in movies_interacteds:\n",
    "            similarity_list[get_id(movie_id, movies_ids)] = 0.0\n",
    "\n",
    "    # obtendo a similaridade média\n",
    "    num_of_items = len(movies_ids)\n",
    "    sum_similarity = np.array([0.0] * num_of_items)\n",
    "    for similarity_item in similarity_non_interacted_items.values():\n",
    "        sum_similarity += np.array(similarity_item)\n",
    "\n",
    "    average_similarity = sum_similarity / num_of_items\n",
    "\n",
    "    items_more_similar = pd.Series(average_similarity).sort_values(ascending = False)\n",
    "\n",
    "    # # pegando o top 10 indices de filmes mais similares\n",
    "    # top_10_indexes = list(items_more_similar.iloc[0:10].index)\n",
    "\n",
    "    # top_10_movies = {}\n",
    "    # for i, index in enumerate(top_10_indexes):\n",
    "    #     top_10_movies[index] = items_more_similar[i]\n",
    "\n",
    "    # return top_10_movies\n",
    "\n",
    "    return items_more_similar\n"
   ]
  },
  {
   "cell_type": "code",
   "execution_count": 130,
   "metadata": {},
   "outputs": [
    {
     "data": {
      "text/plain": [
       "26657"
      ]
     },
     "execution_count": 130,
     "metadata": {},
     "output_type": "execute_result"
    }
   ],
   "source": [
    "len(indexes)"
   ]
  },
  {
   "cell_type": "code",
   "execution_count": 139,
   "metadata": {},
   "outputs": [
    {
     "data": {
      "text/plain": [
       "10"
      ]
     },
     "execution_count": 139,
     "metadata": {},
     "output_type": "execute_result"
    }
   ],
   "source": [
    "# pegando filmes interagidos pelo usuário\n",
    "\n",
    "movies_interacteds = list(indexes.sample(10))\n",
    "len(movies_interacteds)"
   ]
  },
  {
   "cell_type": "code",
   "execution_count": 140,
   "metadata": {},
   "outputs": [
    {
     "data": {
      "text/plain": [
       "26647"
      ]
     },
     "execution_count": 140,
     "metadata": {},
     "output_type": "execute_result"
    }
   ],
   "source": [
    "# pegando filmes não interagidos pelo usuário\n",
    "\n",
    "movies_not_interacteds = [index for index in list(indexes) if index not in movies_interacteds]\n",
    "len(movies_not_interacteds)"
   ]
  },
  {
   "cell_type": "code",
   "execution_count": 188,
   "metadata": {},
   "outputs": [
    {
     "data": {
      "text/plain": [
       "23894    0.108799\n",
       "14679    0.096813\n",
       "3194     0.090869\n",
       "13762    0.090373\n",
       "21022    0.089102\n",
       "           ...   \n",
       "6745     0.000000\n",
       "17192    0.000000\n",
       "10688    0.000000\n",
       "2906     0.000000\n",
       "795      0.000000\n",
       "Length: 26657, dtype: float64"
      ]
     },
     "execution_count": 188,
     "metadata": {},
     "output_type": "execute_result"
    }
   ],
   "source": [
    "\n",
    "movies_recomended = get_similarity(movies_interacteds, movies_not_interacteds, indexes, cosine_sim)\n",
    "movies_recomended"
   ]
  },
  {
   "cell_type": "code",
   "execution_count": 189,
   "metadata": {},
   "outputs": [
    {
     "data": {
      "text/plain": [
       "[0.10879864358920825,\n",
       " 0.09681327600388623,\n",
       " 0.09086915332844082,\n",
       " 0.09037304804638421,\n",
       " 0.08910175373936494,\n",
       " 0.08847638043154062,\n",
       " 0.08806593959015885,\n",
       " 0.08663895954974045,\n",
       " 0.08641274150220904,\n",
       " 0.0857020969395022]"
      ]
     },
     "execution_count": 189,
     "metadata": {},
     "output_type": "execute_result"
    }
   ],
   "source": [
    "list(movies_recomended.iloc[0:10])"
   ]
  },
  {
   "cell_type": "code",
   "execution_count": 183,
   "metadata": {},
   "outputs": [
    {
     "data": {
      "text/html": [
       "<div>\n",
       "<style scoped>\n",
       "    .dataframe tbody tr th:only-of-type {\n",
       "        vertical-align: middle;\n",
       "    }\n",
       "\n",
       "    .dataframe tbody tr th {\n",
       "        vertical-align: top;\n",
       "    }\n",
       "\n",
       "    .dataframe thead th {\n",
       "        text-align: right;\n",
       "    }\n",
       "</style>\n",
       "<table border=\"1\" class=\"dataframe\">\n",
       "  <thead>\n",
       "    <tr style=\"text-align: right;\">\n",
       "      <th></th>\n",
       "      <th>title</th>\n",
       "      <th>bag_of_words</th>\n",
       "    </tr>\n",
       "    <tr>\n",
       "      <th>movieId</th>\n",
       "      <th></th>\n",
       "      <th></th>\n",
       "    </tr>\n",
       "  </thead>\n",
       "  <tbody>\n",
       "    <tr>\n",
       "      <th>825</th>\n",
       "      <td>Regular Guys (Echte Kerle) (1996)</td>\n",
       "      <td>comedy romance christoph cop self confid macho...</td>\n",
       "    </tr>\n",
       "    <tr>\n",
       "      <th>3036</th>\n",
       "      <td>Quest for Fire (Guerre du feu, La) (1981)</td>\n",
       "      <td>adventure drama coloss adventur odyssey turn b...</td>\n",
       "    </tr>\n",
       "    <tr>\n",
       "      <th>3509</th>\n",
       "      <td>Black and White (1999)</td>\n",
       "      <td>drama rich bower com star hip hop world everyo...</td>\n",
       "    </tr>\n",
       "    <tr>\n",
       "      <th>6910</th>\n",
       "      <td>Kronos (a.k.a. Captain Kronos: Vampire Hunter)...</td>\n",
       "      <td>horror sever young girl found dead left hideou...</td>\n",
       "    </tr>\n",
       "    <tr>\n",
       "      <th>43333</th>\n",
       "      <td>Water (2005)</td>\n",
       "      <td>drama romance year 1938 mahatma gandhi groundb...</td>\n",
       "    </tr>\n",
       "    <tr>\n",
       "      <th>84366</th>\n",
       "      <td>I Knew It Was You: Rediscovering John Cazale (...</td>\n",
       "      <td>documentary john cazal five film godfath conve...</td>\n",
       "    </tr>\n",
       "    <tr>\n",
       "      <th>87890</th>\n",
       "      <td>Carey Treatment, The (1972)</td>\n",
       "      <td>mystery dr peter carey pathologist boston hosp...</td>\n",
       "    </tr>\n",
       "    <tr>\n",
       "      <th>96456</th>\n",
       "      <td>ATM (2012)</td>\n",
       "      <td>horror thriller leav compani christma parti to...</td>\n",
       "    </tr>\n",
       "    <tr>\n",
       "      <th>97946</th>\n",
       "      <td>Day, The (2011)</td>\n",
       "      <td>drama sci-fi thriller open war human rage five...</td>\n",
       "    </tr>\n",
       "    <tr>\n",
       "      <th>104066</th>\n",
       "      <td>Alcan Highway (Alaska Highway) (2013)</td>\n",
       "      <td>documentary alcan highway film diari one dream...</td>\n",
       "    </tr>\n",
       "  </tbody>\n",
       "</table>\n",
       "</div>"
      ],
      "text/plain": [
       "                                                     title  \\\n",
       "movieId                                                      \n",
       "825                      Regular Guys (Echte Kerle) (1996)   \n",
       "3036             Quest for Fire (Guerre du feu, La) (1981)   \n",
       "3509                                Black and White (1999)   \n",
       "6910     Kronos (a.k.a. Captain Kronos: Vampire Hunter)...   \n",
       "43333                                         Water (2005)   \n",
       "84366    I Knew It Was You: Rediscovering John Cazale (...   \n",
       "87890                          Carey Treatment, The (1972)   \n",
       "96456                                           ATM (2012)   \n",
       "97946                                      Day, The (2011)   \n",
       "104066               Alcan Highway (Alaska Highway) (2013)   \n",
       "\n",
       "                                              bag_of_words  \n",
       "movieId                                                     \n",
       "825      comedy romance christoph cop self confid macho...  \n",
       "3036     adventure drama coloss adventur odyssey turn b...  \n",
       "3509     drama rich bower com star hip hop world everyo...  \n",
       "6910     horror sever young girl found dead left hideou...  \n",
       "43333    drama romance year 1938 mahatma gandhi groundb...  \n",
       "84366    documentary john cazal five film godfath conve...  \n",
       "87890    mystery dr peter carey pathologist boston hosp...  \n",
       "96456    horror thriller leav compani christma parti to...  \n",
       "97946    drama sci-fi thriller open war human rage five...  \n",
       "104066   documentary alcan highway film diari one dream...  "
      ]
     },
     "execution_count": 183,
     "metadata": {},
     "output_type": "execute_result"
    }
   ],
   "source": [
    "experiment_df[experiment_df.index.isin(movies_interacteds)]"
   ]
  },
  {
   "cell_type": "code",
   "execution_count": 184,
   "metadata": {},
   "outputs": [
    {
     "data": {
      "text/html": [
       "<div>\n",
       "<style scoped>\n",
       "    .dataframe tbody tr th:only-of-type {\n",
       "        vertical-align: middle;\n",
       "    }\n",
       "\n",
       "    .dataframe tbody tr th {\n",
       "        vertical-align: top;\n",
       "    }\n",
       "\n",
       "    .dataframe thead th {\n",
       "        text-align: right;\n",
       "    }\n",
       "</style>\n",
       "<table border=\"1\" class=\"dataframe\">\n",
       "  <thead>\n",
       "    <tr style=\"text-align: right;\">\n",
       "      <th></th>\n",
       "      <th>title</th>\n",
       "      <th>bag_of_words</th>\n",
       "    </tr>\n",
       "    <tr>\n",
       "      <th>movieId</th>\n",
       "      <th></th>\n",
       "      <th></th>\n",
       "    </tr>\n",
       "  </thead>\n",
       "  <tbody>\n",
       "    <tr>\n",
       "      <th>3325</th>\n",
       "      <td>Next Best Thing, The (2000)</td>\n",
       "      <td>comedy drama comedy drama best friend one stra...</td>\n",
       "    </tr>\n",
       "    <tr>\n",
       "      <th>52189</th>\n",
       "      <td>Dark Horse (Voksne mennesker) (2005)</td>\n",
       "      <td>comedy drama romance young man spur romanc hel...</td>\n",
       "    </tr>\n",
       "    <tr>\n",
       "      <th>69729</th>\n",
       "      <td>I Have Found It (Kandukondain Kandukondain) (2...</td>\n",
       "      <td>comedy drama musical romance two young woman d...</td>\n",
       "    </tr>\n",
       "    <tr>\n",
       "      <th>71413</th>\n",
       "      <td>Angel (1937)</td>\n",
       "      <td>comedy drama romance woman husband take separ ...</td>\n",
       "    </tr>\n",
       "    <tr>\n",
       "      <th>73101</th>\n",
       "      <td>Looking for Eric (2009)</td>\n",
       "      <td>comedy drama fantasy man tri put life back tra...</td>\n",
       "    </tr>\n",
       "    <tr>\n",
       "      <th>73145</th>\n",
       "      <td>Under the Bridges (Unter den Brücken) (1945)</td>\n",
       "      <td>comedy drama romance two barg skipper fall lov...</td>\n",
       "    </tr>\n",
       "    <tr>\n",
       "      <th>74327</th>\n",
       "      <td>First Day of the Rest of Your Life, The (Le pr...</td>\n",
       "      <td>comedy drama sprawl drama center five key day ...</td>\n",
       "    </tr>\n",
       "    <tr>\n",
       "      <th>88591</th>\n",
       "      <td>Souls for Sale (1923)</td>\n",
       "      <td>comedy drama romance young woman hit hollywood...</td>\n",
       "    </tr>\n",
       "    <tr>\n",
       "      <th>103920</th>\n",
       "      <td>All Together, The (2007)</td>\n",
       "      <td>comedy drama romance overview found</td>\n",
       "    </tr>\n",
       "    <tr>\n",
       "      <th>115724</th>\n",
       "      <td>Separation City (2009)</td>\n",
       "      <td>comedy drama romance comedy drama follow colla...</td>\n",
       "    </tr>\n",
       "  </tbody>\n",
       "</table>\n",
       "</div>"
      ],
      "text/plain": [
       "                                                     title  \\\n",
       "movieId                                                      \n",
       "3325                           Next Best Thing, The (2000)   \n",
       "52189                 Dark Horse (Voksne mennesker) (2005)   \n",
       "69729    I Have Found It (Kandukondain Kandukondain) (2...   \n",
       "71413                                         Angel (1937)   \n",
       "73101                              Looking for Eric (2009)   \n",
       "73145         Under the Bridges (Unter den Brücken) (1945)   \n",
       "74327    First Day of the Rest of Your Life, The (Le pr...   \n",
       "88591                                Souls for Sale (1923)   \n",
       "103920                            All Together, The (2007)   \n",
       "115724                              Separation City (2009)   \n",
       "\n",
       "                                              bag_of_words  \n",
       "movieId                                                     \n",
       "3325     comedy drama comedy drama best friend one stra...  \n",
       "52189    comedy drama romance young man spur romanc hel...  \n",
       "69729    comedy drama musical romance two young woman d...  \n",
       "71413    comedy drama romance woman husband take separ ...  \n",
       "73101    comedy drama fantasy man tri put life back tra...  \n",
       "73145    comedy drama romance two barg skipper fall lov...  \n",
       "74327    comedy drama sprawl drama center five key day ...  \n",
       "88591    comedy drama romance young woman hit hollywood...  \n",
       "103920               comedy drama romance overview found    \n",
       "115724   comedy drama romance comedy drama follow colla...  "
      ]
     },
     "execution_count": 184,
     "metadata": {},
     "output_type": "execute_result"
    }
   ],
   "source": [
    "experiment_df[experiment_df.index.isin(movies_recomended)]"
   ]
  },
  {
   "cell_type": "code",
   "execution_count": 3,
   "metadata": {},
   "outputs": [
    {
     "data": {
      "text/html": [
       "<div>\n",
       "<style scoped>\n",
       "    .dataframe tbody tr th:only-of-type {\n",
       "        vertical-align: middle;\n",
       "    }\n",
       "\n",
       "    .dataframe tbody tr th {\n",
       "        vertical-align: top;\n",
       "    }\n",
       "\n",
       "    .dataframe thead th {\n",
       "        text-align: right;\n",
       "    }\n",
       "</style>\n",
       "<table border=\"1\" class=\"dataframe\">\n",
       "  <thead>\n",
       "    <tr style=\"text-align: right;\">\n",
       "      <th></th>\n",
       "      <th>movieId</th>\n",
       "      <th>title</th>\n",
       "      <th>genres</th>\n",
       "    </tr>\n",
       "  </thead>\n",
       "  <tbody>\n",
       "    <tr>\n",
       "      <th>0</th>\n",
       "      <td>1</td>\n",
       "      <td>Toy Story (1995)</td>\n",
       "      <td>Adventure|Animation|Children|Comedy|Fantasy</td>\n",
       "    </tr>\n",
       "    <tr>\n",
       "      <th>1</th>\n",
       "      <td>2</td>\n",
       "      <td>Jumanji (1995)</td>\n",
       "      <td>Adventure|Children|Fantasy</td>\n",
       "    </tr>\n",
       "    <tr>\n",
       "      <th>2</th>\n",
       "      <td>3</td>\n",
       "      <td>Grumpier Old Men (1995)</td>\n",
       "      <td>Comedy|Romance</td>\n",
       "    </tr>\n",
       "    <tr>\n",
       "      <th>3</th>\n",
       "      <td>4</td>\n",
       "      <td>Waiting to Exhale (1995)</td>\n",
       "      <td>Comedy|Drama|Romance</td>\n",
       "    </tr>\n",
       "    <tr>\n",
       "      <th>4</th>\n",
       "      <td>5</td>\n",
       "      <td>Father of the Bride Part II (1995)</td>\n",
       "      <td>Comedy</td>\n",
       "    </tr>\n",
       "  </tbody>\n",
       "</table>\n",
       "</div>"
      ],
      "text/plain": [
       "   movieId                               title  \\\n",
       "0        1                    Toy Story (1995)   \n",
       "1        2                      Jumanji (1995)   \n",
       "2        3             Grumpier Old Men (1995)   \n",
       "3        4            Waiting to Exhale (1995)   \n",
       "4        5  Father of the Bride Part II (1995)   \n",
       "\n",
       "                                        genres  \n",
       "0  Adventure|Animation|Children|Comedy|Fantasy  \n",
       "1                   Adventure|Children|Fantasy  \n",
       "2                               Comedy|Romance  \n",
       "3                         Comedy|Drama|Romance  \n",
       "4                                       Comedy  "
      ]
     },
     "execution_count": 3,
     "metadata": {},
     "output_type": "execute_result"
    }
   ],
   "source": [
    "import pandas as pd\n",
    "\n",
    "movies_df = pd.read_csv('../data/movies.csv')\n",
    "movies_df.head()"
   ]
  },
  {
   "cell_type": "code",
   "execution_count": 4,
   "metadata": {},
   "outputs": [
    {
     "data": {
      "text/html": [
       "<div>\n",
       "<style scoped>\n",
       "    .dataframe tbody tr th:only-of-type {\n",
       "        vertical-align: middle;\n",
       "    }\n",
       "\n",
       "    .dataframe tbody tr th {\n",
       "        vertical-align: top;\n",
       "    }\n",
       "\n",
       "    .dataframe thead th {\n",
       "        text-align: right;\n",
       "    }\n",
       "</style>\n",
       "<table border=\"1\" class=\"dataframe\">\n",
       "  <thead>\n",
       "    <tr style=\"text-align: right;\">\n",
       "      <th></th>\n",
       "      <th>movieId</th>\n",
       "      <th>title</th>\n",
       "      <th>genres</th>\n",
       "    </tr>\n",
       "  </thead>\n",
       "  <tbody>\n",
       "    <tr>\n",
       "      <th>688</th>\n",
       "      <td>700</td>\n",
       "      <td>Angus (1995)</td>\n",
       "      <td>Comedy</td>\n",
       "    </tr>\n",
       "  </tbody>\n",
       "</table>\n",
       "</div>"
      ],
      "text/plain": [
       "     movieId         title  genres\n",
       "688      700  Angus (1995)  Comedy"
      ]
     },
     "execution_count": 4,
     "metadata": {},
     "output_type": "execute_result"
    }
   ],
   "source": [
    "movies_df[movies_df['movieId'] == 700]"
   ]
  }
 ],
 "metadata": {
  "kernelspec": {
   "display_name": "Python 3.9.13 ('tccenv')",
   "language": "python",
   "name": "python3"
  },
  "language_info": {
   "codemirror_mode": {
    "name": "ipython",
    "version": 3
   },
   "file_extension": ".py",
   "mimetype": "text/x-python",
   "name": "python",
   "nbconvert_exporter": "python",
   "pygments_lexer": "ipython3",
   "version": "3.9.13"
  },
  "orig_nbformat": 4,
  "vscode": {
   "interpreter": {
    "hash": "9e1b49217fe1f6e7052c73d461b10e73d2c8e219de20ecc2f118f6b9f672e67d"
   }
  }
 },
 "nbformat": 4,
 "nbformat_minor": 2
}

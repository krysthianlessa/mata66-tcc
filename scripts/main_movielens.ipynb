{
 "cells": [
  {
   "cell_type": "code",
   "execution_count": 2,
   "metadata": {},
   "outputs": [],
   "source": [
    "import string\n",
    "\n",
    "import pandas as pd\n",
    "import numpy as np\n",
    "from nltk import word_tokenize\n",
    "from nltk.corpus import stopwords\n",
    "from nltk.stem import PorterStemmer, WordNetLemmatizer\n",
    "from rake_nltk import Rake\n",
    "from sklearn.feature_extraction.text import CountVectorizer\n",
    "from sklearn.metrics.pairwise import cosine_similarity\n",
    "from unidecode import unidecode"
   ]
  },
  {
   "cell_type": "markdown",
   "metadata": {},
   "source": [
    "### Tratamento dos dados"
   ]
  },
  {
   "cell_type": "code",
   "execution_count": 3,
   "metadata": {},
   "outputs": [
    {
     "data": {
      "text/html": [
       "<div>\n",
       "<style scoped>\n",
       "    .dataframe tbody tr th:only-of-type {\n",
       "        vertical-align: middle;\n",
       "    }\n",
       "\n",
       "    .dataframe tbody tr th {\n",
       "        vertical-align: top;\n",
       "    }\n",
       "\n",
       "    .dataframe thead th {\n",
       "        text-align: right;\n",
       "    }\n",
       "</style>\n",
       "<table border=\"1\" class=\"dataframe\">\n",
       "  <thead>\n",
       "    <tr style=\"text-align: right;\">\n",
       "      <th></th>\n",
       "      <th>movieId</th>\n",
       "      <th>title</th>\n",
       "      <th>genres</th>\n",
       "    </tr>\n",
       "  </thead>\n",
       "  <tbody>\n",
       "    <tr>\n",
       "      <th>0</th>\n",
       "      <td>1</td>\n",
       "      <td>Toy Story (1995)</td>\n",
       "      <td>Adventure|Animation|Children|Comedy|Fantasy</td>\n",
       "    </tr>\n",
       "    <tr>\n",
       "      <th>1</th>\n",
       "      <td>2</td>\n",
       "      <td>Jumanji (1995)</td>\n",
       "      <td>Adventure|Children|Fantasy</td>\n",
       "    </tr>\n",
       "    <tr>\n",
       "      <th>2</th>\n",
       "      <td>3</td>\n",
       "      <td>Grumpier Old Men (1995)</td>\n",
       "      <td>Comedy|Romance</td>\n",
       "    </tr>\n",
       "    <tr>\n",
       "      <th>3</th>\n",
       "      <td>4</td>\n",
       "      <td>Waiting to Exhale (1995)</td>\n",
       "      <td>Comedy|Drama|Romance</td>\n",
       "    </tr>\n",
       "    <tr>\n",
       "      <th>4</th>\n",
       "      <td>5</td>\n",
       "      <td>Father of the Bride Part II (1995)</td>\n",
       "      <td>Comedy</td>\n",
       "    </tr>\n",
       "  </tbody>\n",
       "</table>\n",
       "</div>"
      ],
      "text/plain": [
       "   movieId                               title  \\\n",
       "0        1                    Toy Story (1995)   \n",
       "1        2                      Jumanji (1995)   \n",
       "2        3             Grumpier Old Men (1995)   \n",
       "3        4            Waiting to Exhale (1995)   \n",
       "4        5  Father of the Bride Part II (1995)   \n",
       "\n",
       "                                        genres  \n",
       "0  Adventure|Animation|Children|Comedy|Fantasy  \n",
       "1                   Adventure|Children|Fantasy  \n",
       "2                               Comedy|Romance  \n",
       "3                         Comedy|Drama|Romance  \n",
       "4                                       Comedy  "
      ]
     },
     "execution_count": 3,
     "metadata": {},
     "output_type": "execute_result"
    }
   ],
   "source": [
    "movies_df = pd.read_csv('../data/movies.csv')\n",
    "movies_df.head()"
   ]
  },
  {
   "cell_type": "code",
   "execution_count": 4,
   "metadata": {},
   "outputs": [
    {
     "data": {
      "text/html": [
       "<div>\n",
       "<style scoped>\n",
       "    .dataframe tbody tr th:only-of-type {\n",
       "        vertical-align: middle;\n",
       "    }\n",
       "\n",
       "    .dataframe tbody tr th {\n",
       "        vertical-align: top;\n",
       "    }\n",
       "\n",
       "    .dataframe thead th {\n",
       "        text-align: right;\n",
       "    }\n",
       "</style>\n",
       "<table border=\"1\" class=\"dataframe\">\n",
       "  <thead>\n",
       "    <tr style=\"text-align: right;\">\n",
       "      <th></th>\n",
       "      <th>movieId</th>\n",
       "      <th>tmdbId</th>\n",
       "      <th>overview</th>\n",
       "    </tr>\n",
       "  </thead>\n",
       "  <tbody>\n",
       "    <tr>\n",
       "      <th>0</th>\n",
       "      <td>1</td>\n",
       "      <td>862</td>\n",
       "      <td>Led by Woody, Andy's toys live happily in his ...</td>\n",
       "    </tr>\n",
       "    <tr>\n",
       "      <th>1</th>\n",
       "      <td>2</td>\n",
       "      <td>8844</td>\n",
       "      <td>When siblings Judy and Peter discover an encha...</td>\n",
       "    </tr>\n",
       "    <tr>\n",
       "      <th>2</th>\n",
       "      <td>3</td>\n",
       "      <td>15602</td>\n",
       "      <td>A family wedding reignites the ancient feud be...</td>\n",
       "    </tr>\n",
       "    <tr>\n",
       "      <th>3</th>\n",
       "      <td>4</td>\n",
       "      <td>31357</td>\n",
       "      <td>Cheated on, mistreated and stepped on, the wom...</td>\n",
       "    </tr>\n",
       "    <tr>\n",
       "      <th>4</th>\n",
       "      <td>5</td>\n",
       "      <td>11862</td>\n",
       "      <td>Just when George Banks has recovered from his ...</td>\n",
       "    </tr>\n",
       "  </tbody>\n",
       "</table>\n",
       "</div>"
      ],
      "text/plain": [
       "   movieId  tmdbId                                           overview\n",
       "0        1     862  Led by Woody, Andy's toys live happily in his ...\n",
       "1        2    8844  When siblings Judy and Peter discover an encha...\n",
       "2        3   15602  A family wedding reignites the ancient feud be...\n",
       "3        4   31357  Cheated on, mistreated and stepped on, the wom...\n",
       "4        5   11862  Just when George Banks has recovered from his ..."
      ]
     },
     "execution_count": 4,
     "metadata": {},
     "output_type": "execute_result"
    }
   ],
   "source": [
    "overview_df = pd.read_csv('../data/overviews.csv')\n",
    "overview_df.head()"
   ]
  },
  {
   "cell_type": "code",
   "execution_count": 5,
   "metadata": {},
   "outputs": [
    {
     "data": {
      "text/html": [
       "<div>\n",
       "<style scoped>\n",
       "    .dataframe tbody tr th:only-of-type {\n",
       "        vertical-align: middle;\n",
       "    }\n",
       "\n",
       "    .dataframe tbody tr th {\n",
       "        vertical-align: top;\n",
       "    }\n",
       "\n",
       "    .dataframe thead th {\n",
       "        text-align: right;\n",
       "    }\n",
       "</style>\n",
       "<table border=\"1\" class=\"dataframe\">\n",
       "  <thead>\n",
       "    <tr style=\"text-align: right;\">\n",
       "      <th></th>\n",
       "      <th>userId</th>\n",
       "      <th>movieId</th>\n",
       "      <th>rating</th>\n",
       "    </tr>\n",
       "  </thead>\n",
       "  <tbody>\n",
       "    <tr>\n",
       "      <th>0</th>\n",
       "      <td>1</td>\n",
       "      <td>1</td>\n",
       "      <td>4.0</td>\n",
       "    </tr>\n",
       "    <tr>\n",
       "      <th>1</th>\n",
       "      <td>1</td>\n",
       "      <td>3</td>\n",
       "      <td>4.0</td>\n",
       "    </tr>\n",
       "    <tr>\n",
       "      <th>2</th>\n",
       "      <td>1</td>\n",
       "      <td>6</td>\n",
       "      <td>4.0</td>\n",
       "    </tr>\n",
       "    <tr>\n",
       "      <th>3</th>\n",
       "      <td>1</td>\n",
       "      <td>47</td>\n",
       "      <td>5.0</td>\n",
       "    </tr>\n",
       "    <tr>\n",
       "      <th>4</th>\n",
       "      <td>1</td>\n",
       "      <td>50</td>\n",
       "      <td>5.0</td>\n",
       "    </tr>\n",
       "  </tbody>\n",
       "</table>\n",
       "</div>"
      ],
      "text/plain": [
       "   userId  movieId  rating\n",
       "0       1        1     4.0\n",
       "1       1        3     4.0\n",
       "2       1        6     4.0\n",
       "3       1       47     5.0\n",
       "4       1       50     5.0"
      ]
     },
     "execution_count": 5,
     "metadata": {},
     "output_type": "execute_result"
    }
   ],
   "source": [
    "ratings_df = pd.read_csv('../data/ratings.csv')\n",
    "ratings_df.drop(columns=['timestamp'], inplace=True)\n",
    "ratings_df.head()"
   ]
  },
  {
   "cell_type": "code",
   "execution_count": 6,
   "metadata": {},
   "outputs": [
    {
     "data": {
      "text/plain": [
       "(100836, 3)"
      ]
     },
     "execution_count": 6,
     "metadata": {},
     "output_type": "execute_result"
    }
   ],
   "source": [
    "ratings_df.shape"
   ]
  },
  {
   "cell_type": "code",
   "execution_count": 7,
   "metadata": {},
   "outputs": [
    {
     "data": {
      "text/plain": [
       "(9742, 3)"
      ]
     },
     "execution_count": 7,
     "metadata": {},
     "output_type": "execute_result"
    }
   ],
   "source": [
    "movies_df.shape"
   ]
  },
  {
   "cell_type": "code",
   "execution_count": 8,
   "metadata": {},
   "outputs": [
    {
     "data": {
      "text/plain": [
       "(9742, 3)"
      ]
     },
     "execution_count": 8,
     "metadata": {},
     "output_type": "execute_result"
    }
   ],
   "source": [
    "overview_df.shape"
   ]
  },
  {
   "cell_type": "code",
   "execution_count": 9,
   "metadata": {},
   "outputs": [
    {
     "data": {
      "text/plain": [
       "userId     0\n",
       "movieId    0\n",
       "rating     0\n",
       "dtype: int64"
      ]
     },
     "execution_count": 9,
     "metadata": {},
     "output_type": "execute_result"
    }
   ],
   "source": [
    "ratings_df.isna().sum()"
   ]
  },
  {
   "cell_type": "code",
   "execution_count": 10,
   "metadata": {},
   "outputs": [
    {
     "data": {
      "text/plain": [
       "movieId    0\n",
       "title      0\n",
       "genres     0\n",
       "dtype: int64"
      ]
     },
     "execution_count": 10,
     "metadata": {},
     "output_type": "execute_result"
    }
   ],
   "source": [
    "movies_df.isna().sum()"
   ]
  },
  {
   "cell_type": "code",
   "execution_count": 11,
   "metadata": {},
   "outputs": [
    {
     "data": {
      "text/plain": [
       "movieId       0\n",
       "tmdbId        0\n",
       "overview    117\n",
       "dtype: int64"
      ]
     },
     "execution_count": 11,
     "metadata": {},
     "output_type": "execute_result"
    }
   ],
   "source": [
    "overview_df.isna().sum()"
   ]
  },
  {
   "cell_type": "code",
   "execution_count": 12,
   "metadata": {},
   "outputs": [],
   "source": [
    "list_movies_missing_overview = list(overview_df[overview_df.overview.isna()]['movieId'])"
   ]
  },
  {
   "cell_type": "code",
   "execution_count": 13,
   "metadata": {},
   "outputs": [
    {
     "data": {
      "text/plain": [
       "movieId     0\n",
       "tmdbId      0\n",
       "overview    0\n",
       "dtype: int64"
      ]
     },
     "execution_count": 13,
     "metadata": {},
     "output_type": "execute_result"
    }
   ],
   "source": [
    "overview_df.dropna(inplace=True)\n",
    "overview_df.isna().sum()"
   ]
  },
  {
   "cell_type": "code",
   "execution_count": 14,
   "metadata": {},
   "outputs": [],
   "source": [
    "# remove ratings aos filmes 'dropados'\n",
    "\n",
    "ratings_df = ratings_df[~ratings_df.movieId.isin(list_movies_missing_overview)]"
   ]
  },
  {
   "cell_type": "code",
   "execution_count": 15,
   "metadata": {},
   "outputs": [],
   "source": [
    "#remove filmes 'dropados' do df de filmes\n",
    "\n",
    "movies_df = movies_df[~movies_df.movieId.isin(list_movies_missing_overview)]"
   ]
  },
  {
   "cell_type": "code",
   "execution_count": 16,
   "metadata": {},
   "outputs": [
    {
     "data": {
      "text/plain": [
       "(9625, 3)"
      ]
     },
     "execution_count": 16,
     "metadata": {},
     "output_type": "execute_result"
    }
   ],
   "source": [
    "movies_df.shape"
   ]
  },
  {
   "cell_type": "code",
   "execution_count": 17,
   "metadata": {},
   "outputs": [
    {
     "data": {
      "text/plain": [
       "(9625, 3)"
      ]
     },
     "execution_count": 17,
     "metadata": {},
     "output_type": "execute_result"
    }
   ],
   "source": [
    "overview_df.shape"
   ]
  },
  {
   "cell_type": "code",
   "execution_count": 18,
   "metadata": {},
   "outputs": [
    {
     "data": {
      "text/plain": [
       "(100525, 3)"
      ]
     },
     "execution_count": 18,
     "metadata": {},
     "output_type": "execute_result"
    }
   ],
   "source": [
    "ratings_df.shape"
   ]
  },
  {
   "cell_type": "code",
   "execution_count": 19,
   "metadata": {},
   "outputs": [],
   "source": [
    "experiment_df = overview_df.set_index('movieId').join(movies_df.set_index('movieId'), how='left')"
   ]
  },
  {
   "cell_type": "code",
   "execution_count": 20,
   "metadata": {},
   "outputs": [
    {
     "data": {
      "text/html": [
       "<div>\n",
       "<style scoped>\n",
       "    .dataframe tbody tr th:only-of-type {\n",
       "        vertical-align: middle;\n",
       "    }\n",
       "\n",
       "    .dataframe tbody tr th {\n",
       "        vertical-align: top;\n",
       "    }\n",
       "\n",
       "    .dataframe thead th {\n",
       "        text-align: right;\n",
       "    }\n",
       "</style>\n",
       "<table border=\"1\" class=\"dataframe\">\n",
       "  <thead>\n",
       "    <tr style=\"text-align: right;\">\n",
       "      <th></th>\n",
       "      <th>movieId</th>\n",
       "      <th>tmdbId</th>\n",
       "      <th>overview</th>\n",
       "      <th>title</th>\n",
       "      <th>genres</th>\n",
       "    </tr>\n",
       "  </thead>\n",
       "  <tbody>\n",
       "    <tr>\n",
       "      <th>0</th>\n",
       "      <td>1</td>\n",
       "      <td>862</td>\n",
       "      <td>Led by Woody, Andy's toys live happily in his ...</td>\n",
       "      <td>Toy Story (1995)</td>\n",
       "      <td>Adventure|Animation|Children|Comedy|Fantasy</td>\n",
       "    </tr>\n",
       "    <tr>\n",
       "      <th>1</th>\n",
       "      <td>2</td>\n",
       "      <td>8844</td>\n",
       "      <td>When siblings Judy and Peter discover an encha...</td>\n",
       "      <td>Jumanji (1995)</td>\n",
       "      <td>Adventure|Children|Fantasy</td>\n",
       "    </tr>\n",
       "    <tr>\n",
       "      <th>2</th>\n",
       "      <td>3</td>\n",
       "      <td>15602</td>\n",
       "      <td>A family wedding reignites the ancient feud be...</td>\n",
       "      <td>Grumpier Old Men (1995)</td>\n",
       "      <td>Comedy|Romance</td>\n",
       "    </tr>\n",
       "    <tr>\n",
       "      <th>3</th>\n",
       "      <td>4</td>\n",
       "      <td>31357</td>\n",
       "      <td>Cheated on, mistreated and stepped on, the wom...</td>\n",
       "      <td>Waiting to Exhale (1995)</td>\n",
       "      <td>Comedy|Drama|Romance</td>\n",
       "    </tr>\n",
       "    <tr>\n",
       "      <th>4</th>\n",
       "      <td>5</td>\n",
       "      <td>11862</td>\n",
       "      <td>Just when George Banks has recovered from his ...</td>\n",
       "      <td>Father of the Bride Part II (1995)</td>\n",
       "      <td>Comedy</td>\n",
       "    </tr>\n",
       "  </tbody>\n",
       "</table>\n",
       "</div>"
      ],
      "text/plain": [
       "   movieId  tmdbId                                           overview  \\\n",
       "0        1     862  Led by Woody, Andy's toys live happily in his ...   \n",
       "1        2    8844  When siblings Judy and Peter discover an encha...   \n",
       "2        3   15602  A family wedding reignites the ancient feud be...   \n",
       "3        4   31357  Cheated on, mistreated and stepped on, the wom...   \n",
       "4        5   11862  Just when George Banks has recovered from his ...   \n",
       "\n",
       "                                title  \\\n",
       "0                    Toy Story (1995)   \n",
       "1                      Jumanji (1995)   \n",
       "2             Grumpier Old Men (1995)   \n",
       "3            Waiting to Exhale (1995)   \n",
       "4  Father of the Bride Part II (1995)   \n",
       "\n",
       "                                        genres  \n",
       "0  Adventure|Animation|Children|Comedy|Fantasy  \n",
       "1                   Adventure|Children|Fantasy  \n",
       "2                               Comedy|Romance  \n",
       "3                         Comedy|Drama|Romance  \n",
       "4                                       Comedy  "
      ]
     },
     "execution_count": 20,
     "metadata": {},
     "output_type": "execute_result"
    }
   ],
   "source": [
    "experiment_df.reset_index(inplace=True)\n",
    "experiment_df.head()"
   ]
  },
  {
   "cell_type": "code",
   "execution_count": 21,
   "metadata": {},
   "outputs": [],
   "source": [
    "experiment_df.replace('(no genres listed)', '', inplace=True)"
   ]
  },
  {
   "cell_type": "code",
   "execution_count": 22,
   "metadata": {},
   "outputs": [],
   "source": [
    "# colocando os gêneros em uma lista de palavras\n",
    "experiment_df['genres'] = experiment_df['genres'].map(lambda x: x.lower().split('|'))"
   ]
  },
  {
   "cell_type": "code",
   "execution_count": 23,
   "metadata": {},
   "outputs": [],
   "source": [
    "experiment_df.drop(columns=['tmdbId'], inplace=True)\n",
    "experiment_df.set_index('movieId', inplace=True)"
   ]
  },
  {
   "cell_type": "code",
   "execution_count": 24,
   "metadata": {},
   "outputs": [
    {
     "data": {
      "text/html": [
       "<div>\n",
       "<style scoped>\n",
       "    .dataframe tbody tr th:only-of-type {\n",
       "        vertical-align: middle;\n",
       "    }\n",
       "\n",
       "    .dataframe tbody tr th {\n",
       "        vertical-align: top;\n",
       "    }\n",
       "\n",
       "    .dataframe thead th {\n",
       "        text-align: right;\n",
       "    }\n",
       "</style>\n",
       "<table border=\"1\" class=\"dataframe\">\n",
       "  <thead>\n",
       "    <tr style=\"text-align: right;\">\n",
       "      <th></th>\n",
       "      <th>overview</th>\n",
       "      <th>title</th>\n",
       "      <th>genres</th>\n",
       "    </tr>\n",
       "    <tr>\n",
       "      <th>movieId</th>\n",
       "      <th></th>\n",
       "      <th></th>\n",
       "      <th></th>\n",
       "    </tr>\n",
       "  </thead>\n",
       "  <tbody>\n",
       "    <tr>\n",
       "      <th>1</th>\n",
       "      <td>Led by Woody, Andy's toys live happily in his ...</td>\n",
       "      <td>Toy Story (1995)</td>\n",
       "      <td>[adventure, animation, children, comedy, fantasy]</td>\n",
       "    </tr>\n",
       "    <tr>\n",
       "      <th>2</th>\n",
       "      <td>When siblings Judy and Peter discover an encha...</td>\n",
       "      <td>Jumanji (1995)</td>\n",
       "      <td>[adventure, children, fantasy]</td>\n",
       "    </tr>\n",
       "    <tr>\n",
       "      <th>3</th>\n",
       "      <td>A family wedding reignites the ancient feud be...</td>\n",
       "      <td>Grumpier Old Men (1995)</td>\n",
       "      <td>[comedy, romance]</td>\n",
       "    </tr>\n",
       "    <tr>\n",
       "      <th>4</th>\n",
       "      <td>Cheated on, mistreated and stepped on, the wom...</td>\n",
       "      <td>Waiting to Exhale (1995)</td>\n",
       "      <td>[comedy, drama, romance]</td>\n",
       "    </tr>\n",
       "    <tr>\n",
       "      <th>5</th>\n",
       "      <td>Just when George Banks has recovered from his ...</td>\n",
       "      <td>Father of the Bride Part II (1995)</td>\n",
       "      <td>[comedy]</td>\n",
       "    </tr>\n",
       "  </tbody>\n",
       "</table>\n",
       "</div>"
      ],
      "text/plain": [
       "                                                  overview  \\\n",
       "movieId                                                      \n",
       "1        Led by Woody, Andy's toys live happily in his ...   \n",
       "2        When siblings Judy and Peter discover an encha...   \n",
       "3        A family wedding reignites the ancient feud be...   \n",
       "4        Cheated on, mistreated and stepped on, the wom...   \n",
       "5        Just when George Banks has recovered from his ...   \n",
       "\n",
       "                                      title  \\\n",
       "movieId                                       \n",
       "1                          Toy Story (1995)   \n",
       "2                            Jumanji (1995)   \n",
       "3                   Grumpier Old Men (1995)   \n",
       "4                  Waiting to Exhale (1995)   \n",
       "5        Father of the Bride Part II (1995)   \n",
       "\n",
       "                                                    genres  \n",
       "movieId                                                     \n",
       "1        [adventure, animation, children, comedy, fantasy]  \n",
       "2                           [adventure, children, fantasy]  \n",
       "3                                        [comedy, romance]  \n",
       "4                                 [comedy, drama, romance]  \n",
       "5                                                 [comedy]  "
      ]
     },
     "execution_count": 24,
     "metadata": {},
     "output_type": "execute_result"
    }
   ],
   "source": [
    "experiment_df.head()"
   ]
  },
  {
   "cell_type": "markdown",
   "metadata": {},
   "source": [
    "### Iniciando o processo de recomendação"
   ]
  },
  {
   "cell_type": "markdown",
   "metadata": {},
   "source": [
    "#### Definindo funções"
   ]
  },
  {
   "cell_type": "code",
   "execution_count": 25,
   "metadata": {},
   "outputs": [],
   "source": [
    "def nlp_pre_process(corpus, stop_words_remv = True, lemmatizetion = True, stemmization = True):\n",
    "    corpus = corpus.lower()\n",
    "    stopset = None\n",
    "    if (stop_words_remv):\n",
    "        stopset = stopwords.words('english')\n",
    "        stopset += list(string.punctuation)\n",
    "\n",
    "    if (lemmatizetion):\n",
    "        lemmatizer = WordNetLemmatizer()\n",
    "        corpus = \" \".join([lemmatizer.lemmatize(i) for i in word_tokenize(corpus) if i not in stopset])\n",
    "    \n",
    "    if (stemmization):\n",
    "        stemmer = PorterStemmer()\n",
    "        corpus = \" \".join([stemmer.stem(i) for i in word_tokenize(corpus)])\n",
    "    \n",
    "    # remove non-ascii characters\n",
    "    corpus = unidecode(corpus)\n",
    "    \n",
    "    return corpus"
   ]
  },
  {
   "cell_type": "code",
   "execution_count": 26,
   "metadata": {},
   "outputs": [],
   "source": [
    "def apply_rake(df, col_overview_name, col_key_words):\n",
    "    for index, row in df.iterrows():\n",
    "        overview = row[col_overview_name]\n",
    "\n",
    "        # instanciando Rake, por padrão usa palavras irrelevantes em inglês do NLTK \n",
    "        # e descarta todos os caracteres de pontuação\n",
    "        r = Rake()\n",
    "\n",
    "        # extraindo as palavras passando o texto\n",
    "        r.extract_keywords_from_text(overview)\n",
    "\n",
    "        # obtendo o dicionário com palavras-chave e suas pontuações\n",
    "        key_words_dict_scores = r.get_word_degrees()\n",
    "\n",
    "        # atribuindo as palavras-chave à nova coluna\n",
    "        row['key_words'] = list(key_words_dict_scores.keys())\n",
    "\n",
    "    return df"
   ]
  },
  {
   "cell_type": "code",
   "execution_count": 27,
   "metadata": {},
   "outputs": [],
   "source": [
    "def create_bag_of_words(df):\n",
    "    df['bag_of_words'] = ''\n",
    "    columns = df.columns\n",
    "\n",
    "    for index, row in df.iterrows():\n",
    "        words = ''\n",
    "        for col in columns:\n",
    "            if col != 'title':\n",
    "                words = words + ' '.join(row[col])+ ' '\n",
    "        row['bag_of_words'] = words\n",
    "        \n",
    "    df.drop(columns = [col for col in df.columns if col != 'bag_of_words' and col != 'title'], inplace = True)\n",
    "\n",
    "    return df"
   ]
  },
  {
   "cell_type": "code",
   "execution_count": 28,
   "metadata": {},
   "outputs": [],
   "source": [
    "def pre_process(df, col_overview_name, stopwords_removal, lemmatization, stemmization):\n",
    "    df[col_overview_name].apply(nlp_pre_process, args=(stopwords_removal, lemmatization, stemmization))\n",
    "\n",
    "    df['key_words'] = ''\n",
    "\n",
    "    df = apply_rake(df, col_overview_name, 'key_words')\n",
    "\n",
    "    df.drop(columns=[col_overview_name], inplace = True)\n",
    "\n",
    "    df = create_bag_of_words(df)\n",
    "\n",
    "    return df"
   ]
  },
  {
   "cell_type": "code",
   "execution_count": 72,
   "metadata": {},
   "outputs": [],
   "source": [
    "def get_recommended(movies_interacteds, movies_not_interacteds, movie_id_list, cosine_similarity):\n",
    "\n",
    "    movie_to_index = {movie_id:index for index, movie_id in enumerate(movie_id_list)}\n",
    "    index_to_movie = {index:movie_id for index, movie_id in enumerate(movie_id_list)}\n",
    "\n",
    "    similaritys = []\n",
    "\n",
    "    # pegando lista de similaridades dos itens não interagidos\n",
    "    for movie in movies_interacteds:\n",
    "        similaritys.append([sim for i, sim in enumerate(cosine_similarity[movie_to_index[movie]]) if index_to_movie[i] in movies_not_interacteds])\n",
    "\n",
    "    # obtendo a similaridade média\n",
    "    num_of_items = len(movies_not_interacteds)\n",
    "    sum_similarity = np.array([0.0] * num_of_items)\n",
    "    for similarity in similaritys:\n",
    "        sum_similarity += np.array(similarity)\n",
    "\n",
    "    average_similarity = sum_similarity / num_of_items\n",
    "\n",
    "    items_more_similar = pd.Series(average_similarity).sort_values(ascending = False)\n",
    "\n",
    "    # pegando o top 10 indices de filmes mais similares\n",
    "    top_10_similarity = list(items_more_similar.iloc[0:10].index)\n",
    "\n",
    "    movies_to_recommend = pd.Series(movies_not_interacteds)\n",
    "\n",
    "    top_10_movies = list(movies_to_recommend[movies_to_recommend.index.isin(top_10_similarity)])\n",
    "\n",
    "    return top_10_movies"
   ]
  },
  {
   "cell_type": "code",
   "execution_count": 30,
   "metadata": {},
   "outputs": [],
   "source": [
    "experiment_pos_processing = pre_process(experiment_df, 'overview', stopwords_removal=True, lemmatization=True, stemmization=True)"
   ]
  },
  {
   "cell_type": "code",
   "execution_count": 31,
   "metadata": {},
   "outputs": [
    {
     "data": {
      "text/html": [
       "<div>\n",
       "<style scoped>\n",
       "    .dataframe tbody tr th:only-of-type {\n",
       "        vertical-align: middle;\n",
       "    }\n",
       "\n",
       "    .dataframe tbody tr th {\n",
       "        vertical-align: top;\n",
       "    }\n",
       "\n",
       "    .dataframe thead th {\n",
       "        text-align: right;\n",
       "    }\n",
       "</style>\n",
       "<table border=\"1\" class=\"dataframe\">\n",
       "  <thead>\n",
       "    <tr style=\"text-align: right;\">\n",
       "      <th></th>\n",
       "      <th>title</th>\n",
       "      <th>bag_of_words</th>\n",
       "    </tr>\n",
       "    <tr>\n",
       "      <th>movieId</th>\n",
       "      <th></th>\n",
       "      <th></th>\n",
       "    </tr>\n",
       "  </thead>\n",
       "  <tbody>\n",
       "    <tr>\n",
       "      <th>1</th>\n",
       "      <td>Toy Story (1995)</td>\n",
       "      <td>adventure animation children comedy fantasy le...</td>\n",
       "    </tr>\n",
       "    <tr>\n",
       "      <th>2</th>\n",
       "      <td>Jumanji (1995)</td>\n",
       "      <td>adventure children fantasy siblings judy peter...</td>\n",
       "    </tr>\n",
       "    <tr>\n",
       "      <th>3</th>\n",
       "      <td>Grumpier Old Men (1995)</td>\n",
       "      <td>comedy romance family wedding reignites ancien...</td>\n",
       "    </tr>\n",
       "    <tr>\n",
       "      <th>4</th>\n",
       "      <td>Waiting to Exhale (1995)</td>\n",
       "      <td>comedy drama romance cheated mistreated steppe...</td>\n",
       "    </tr>\n",
       "    <tr>\n",
       "      <th>5</th>\n",
       "      <td>Father of the Bride Part II (1995)</td>\n",
       "      <td>comedy george banks recovered daughter wedding...</td>\n",
       "    </tr>\n",
       "  </tbody>\n",
       "</table>\n",
       "</div>"
      ],
      "text/plain": [
       "                                      title  \\\n",
       "movieId                                       \n",
       "1                          Toy Story (1995)   \n",
       "2                            Jumanji (1995)   \n",
       "3                   Grumpier Old Men (1995)   \n",
       "4                  Waiting to Exhale (1995)   \n",
       "5        Father of the Bride Part II (1995)   \n",
       "\n",
       "                                              bag_of_words  \n",
       "movieId                                                     \n",
       "1        adventure animation children comedy fantasy le...  \n",
       "2        adventure children fantasy siblings judy peter...  \n",
       "3        comedy romance family wedding reignites ancien...  \n",
       "4        comedy drama romance cheated mistreated steppe...  \n",
       "5        comedy george banks recovered daughter wedding...  "
      ]
     },
     "execution_count": 31,
     "metadata": {},
     "output_type": "execute_result"
    }
   ],
   "source": [
    "experiment_pos_processing.head()"
   ]
  },
  {
   "cell_type": "code",
   "execution_count": 32,
   "metadata": {},
   "outputs": [],
   "source": [
    "# instanciando e gerando a matriz de contagem\n",
    "count = CountVectorizer()\n",
    "count_matrix = count.fit_transform(experiment_pos_processing['bag_of_words'])"
   ]
  },
  {
   "cell_type": "code",
   "execution_count": 33,
   "metadata": {},
   "outputs": [
    {
     "data": {
      "text/plain": [
       "(9625, 29102)"
      ]
     },
     "execution_count": 33,
     "metadata": {},
     "output_type": "execute_result"
    }
   ],
   "source": [
    "count_matrix.shape"
   ]
  },
  {
   "cell_type": "code",
   "execution_count": 34,
   "metadata": {},
   "outputs": [
    {
     "data": {
      "text/plain": [
       "array([[1.        , 0.11470787, 0.02988072, ..., 0.        , 0.04950738,\n",
       "        0.05330018],\n",
       "       [0.11470787, 1.        , 0.05484085, ..., 0.        , 0.02271554,\n",
       "        0.0244558 ],\n",
       "       [0.02988072, 0.05484085, 1.        , ..., 0.05345225, 0.        ,\n",
       "        0.07644708],\n",
       "       ...,\n",
       "       [0.        , 0.        , 0.05345225, ..., 1.        , 0.        ,\n",
       "        0.        ],\n",
       "       [0.04950738, 0.02271554, 0.        , ..., 0.        , 1.        ,\n",
       "        0.02111002],\n",
       "       [0.05330018, 0.0244558 , 0.07644708, ..., 0.        , 0.02111002,\n",
       "        1.        ]])"
      ]
     },
     "execution_count": 34,
     "metadata": {},
     "output_type": "execute_result"
    }
   ],
   "source": [
    "# gerando a matriz de similaridade de cosseno\n",
    "cosine_sim = cosine_similarity(count_matrix, count_matrix)\n",
    "cosine_sim"
   ]
  },
  {
   "cell_type": "code",
   "execution_count": 35,
   "metadata": {},
   "outputs": [
    {
     "data": {
      "text/plain": [
       "(9625, 9625)"
      ]
     },
     "execution_count": 35,
     "metadata": {},
     "output_type": "execute_result"
    }
   ],
   "source": [
    "cosine_sim.shape"
   ]
  },
  {
   "cell_type": "code",
   "execution_count": 36,
   "metadata": {},
   "outputs": [],
   "source": [
    "movies_list = list(experiment_pos_processing.index)"
   ]
  },
  {
   "cell_type": "code",
   "execution_count": 61,
   "metadata": {},
   "outputs": [
    {
     "data": {
      "text/html": [
       "<div>\n",
       "<style scoped>\n",
       "    .dataframe tbody tr th:only-of-type {\n",
       "        vertical-align: middle;\n",
       "    }\n",
       "\n",
       "    .dataframe tbody tr th {\n",
       "        vertical-align: top;\n",
       "    }\n",
       "\n",
       "    .dataframe thead th {\n",
       "        text-align: right;\n",
       "    }\n",
       "</style>\n",
       "<table border=\"1\" class=\"dataframe\">\n",
       "  <thead>\n",
       "    <tr style=\"text-align: right;\">\n",
       "      <th></th>\n",
       "      <th>title</th>\n",
       "      <th>bag_of_words</th>\n",
       "    </tr>\n",
       "    <tr>\n",
       "      <th>movieId</th>\n",
       "      <th></th>\n",
       "      <th></th>\n",
       "    </tr>\n",
       "  </thead>\n",
       "  <tbody>\n",
       "    <tr>\n",
       "      <th>3951</th>\n",
       "      <td>Two Family House (2000)</td>\n",
       "      <td>drama buddy visalo michael rispoli factory wor...</td>\n",
       "    </tr>\n",
       "    <tr>\n",
       "      <th>3899</th>\n",
       "      <td>Circus (2000)</td>\n",
       "      <td>crime drama thriller bruno sadistic criminal w...</td>\n",
       "    </tr>\n",
       "    <tr>\n",
       "      <th>2740</th>\n",
       "      <td>Kindred, The (1986)</td>\n",
       "      <td>horror sci-fi amanda deathbed request son john...</td>\n",
       "    </tr>\n",
       "    <tr>\n",
       "      <th>747</th>\n",
       "      <td>Stupids, The (1996)</td>\n",
       "      <td>comedy incredibly dull witted family unknowing...</td>\n",
       "    </tr>\n",
       "    <tr>\n",
       "      <th>8711</th>\n",
       "      <td>Mr. Blandings Builds His Dream House (1948)</td>\n",
       "      <td>comedy advertising executive dreams getting ci...</td>\n",
       "    </tr>\n",
       "    <tr>\n",
       "      <th>...</th>\n",
       "      <td>...</td>\n",
       "      <td>...</td>\n",
       "    </tr>\n",
       "    <tr>\n",
       "      <th>64285</th>\n",
       "      <td>Wallace and Gromit in 'A Matter of Loaf and De...</td>\n",
       "      <td>animation comedy wallace gromit open bakery ac...</td>\n",
       "    </tr>\n",
       "    <tr>\n",
       "      <th>126420</th>\n",
       "      <td>American Heist (2015)</td>\n",
       "      <td>action two brothers troubled paths find middle...</td>\n",
       "    </tr>\n",
       "    <tr>\n",
       "      <th>3111</th>\n",
       "      <td>Places in the Heart (1984)</td>\n",
       "      <td>drama 1930s texas widow family fight save home...</td>\n",
       "    </tr>\n",
       "    <tr>\n",
       "      <th>155659</th>\n",
       "      <td>Florence Foster Jenkins (2016)</td>\n",
       "      <td>comedy drama story florence foster jenkins new...</td>\n",
       "    </tr>\n",
       "    <tr>\n",
       "      <th>55</th>\n",
       "      <td>Georgia (1995)</td>\n",
       "      <td>drama sadie looks older sister georgia success...</td>\n",
       "    </tr>\n",
       "  </tbody>\n",
       "</table>\n",
       "<p>100 rows × 2 columns</p>\n",
       "</div>"
      ],
      "text/plain": [
       "                                                     title  \\\n",
       "movieId                                                      \n",
       "3951                               Two Family House (2000)   \n",
       "3899                                         Circus (2000)   \n",
       "2740                                   Kindred, The (1986)   \n",
       "747                                    Stupids, The (1996)   \n",
       "8711           Mr. Blandings Builds His Dream House (1948)   \n",
       "...                                                    ...   \n",
       "64285    Wallace and Gromit in 'A Matter of Loaf and De...   \n",
       "126420                               American Heist (2015)   \n",
       "3111                            Places in the Heart (1984)   \n",
       "155659                      Florence Foster Jenkins (2016)   \n",
       "55                                          Georgia (1995)   \n",
       "\n",
       "                                              bag_of_words  \n",
       "movieId                                                     \n",
       "3951     drama buddy visalo michael rispoli factory wor...  \n",
       "3899     crime drama thriller bruno sadistic criminal w...  \n",
       "2740     horror sci-fi amanda deathbed request son john...  \n",
       "747      comedy incredibly dull witted family unknowing...  \n",
       "8711     comedy advertising executive dreams getting ci...  \n",
       "...                                                    ...  \n",
       "64285    animation comedy wallace gromit open bakery ac...  \n",
       "126420   action two brothers troubled paths find middle...  \n",
       "3111     drama 1930s texas widow family fight save home...  \n",
       "155659   comedy drama story florence foster jenkins new...  \n",
       "55       drama sadie looks older sister georgia success...  \n",
       "\n",
       "[100 rows x 2 columns]"
      ]
     },
     "execution_count": 61,
     "metadata": {},
     "output_type": "execute_result"
    }
   ],
   "source": [
    "user_preferences = experiment_pos_processing.sample(100)\n",
    "user_preferences"
   ]
  },
  {
   "cell_type": "code",
   "execution_count": 62,
   "metadata": {},
   "outputs": [
    {
     "data": {
      "text/html": [
       "<div>\n",
       "<style scoped>\n",
       "    .dataframe tbody tr th:only-of-type {\n",
       "        vertical-align: middle;\n",
       "    }\n",
       "\n",
       "    .dataframe tbody tr th {\n",
       "        vertical-align: top;\n",
       "    }\n",
       "\n",
       "    .dataframe thead th {\n",
       "        text-align: right;\n",
       "    }\n",
       "</style>\n",
       "<table border=\"1\" class=\"dataframe\">\n",
       "  <thead>\n",
       "    <tr style=\"text-align: right;\">\n",
       "      <th></th>\n",
       "      <th>title</th>\n",
       "      <th>bag_of_words</th>\n",
       "    </tr>\n",
       "    <tr>\n",
       "      <th>movieId</th>\n",
       "      <th></th>\n",
       "      <th></th>\n",
       "    </tr>\n",
       "  </thead>\n",
       "  <tbody>\n",
       "    <tr>\n",
       "      <th>1</th>\n",
       "      <td>Toy Story (1995)</td>\n",
       "      <td>adventure animation children comedy fantasy le...</td>\n",
       "    </tr>\n",
       "    <tr>\n",
       "      <th>2</th>\n",
       "      <td>Jumanji (1995)</td>\n",
       "      <td>adventure children fantasy siblings judy peter...</td>\n",
       "    </tr>\n",
       "    <tr>\n",
       "      <th>3</th>\n",
       "      <td>Grumpier Old Men (1995)</td>\n",
       "      <td>comedy romance family wedding reignites ancien...</td>\n",
       "    </tr>\n",
       "    <tr>\n",
       "      <th>4</th>\n",
       "      <td>Waiting to Exhale (1995)</td>\n",
       "      <td>comedy drama romance cheated mistreated steppe...</td>\n",
       "    </tr>\n",
       "    <tr>\n",
       "      <th>5</th>\n",
       "      <td>Father of the Bride Part II (1995)</td>\n",
       "      <td>comedy george banks recovered daughter wedding...</td>\n",
       "    </tr>\n",
       "    <tr>\n",
       "      <th>...</th>\n",
       "      <td>...</td>\n",
       "      <td>...</td>\n",
       "    </tr>\n",
       "    <tr>\n",
       "      <th>193579</th>\n",
       "      <td>Jon Stewart Has Left the Building (2015)</td>\n",
       "      <td>documentary celebrating jon stewart decade hal...</td>\n",
       "    </tr>\n",
       "    <tr>\n",
       "      <th>193583</th>\n",
       "      <td>No Game No Life: Zero (2017)</td>\n",
       "      <td>animation comedy fantasy ancient disboard riku...</td>\n",
       "    </tr>\n",
       "    <tr>\n",
       "      <th>193585</th>\n",
       "      <td>Flint (2017)</td>\n",
       "      <td>drama woman deals toxic water scandal flint mi...</td>\n",
       "    </tr>\n",
       "    <tr>\n",
       "      <th>193587</th>\n",
       "      <td>Bungo Stray Dogs: Dead Apple (2018)</td>\n",
       "      <td>action animation large scale catastrophe occur...</td>\n",
       "    </tr>\n",
       "    <tr>\n",
       "      <th>193609</th>\n",
       "      <td>Andrew Dice Clay: Dice Rules (1991)</td>\n",
       "      <td>comedy outrageous misogynistic vulgar max come...</td>\n",
       "    </tr>\n",
       "  </tbody>\n",
       "</table>\n",
       "<p>9525 rows × 2 columns</p>\n",
       "</div>"
      ],
      "text/plain": [
       "                                            title  \\\n",
       "movieId                                             \n",
       "1                                Toy Story (1995)   \n",
       "2                                  Jumanji (1995)   \n",
       "3                         Grumpier Old Men (1995)   \n",
       "4                        Waiting to Exhale (1995)   \n",
       "5              Father of the Bride Part II (1995)   \n",
       "...                                           ...   \n",
       "193579   Jon Stewart Has Left the Building (2015)   \n",
       "193583               No Game No Life: Zero (2017)   \n",
       "193585                               Flint (2017)   \n",
       "193587        Bungo Stray Dogs: Dead Apple (2018)   \n",
       "193609        Andrew Dice Clay: Dice Rules (1991)   \n",
       "\n",
       "                                              bag_of_words  \n",
       "movieId                                                     \n",
       "1        adventure animation children comedy fantasy le...  \n",
       "2        adventure children fantasy siblings judy peter...  \n",
       "3        comedy romance family wedding reignites ancien...  \n",
       "4        comedy drama romance cheated mistreated steppe...  \n",
       "5        comedy george banks recovered daughter wedding...  \n",
       "...                                                    ...  \n",
       "193579   documentary celebrating jon stewart decade hal...  \n",
       "193583   animation comedy fantasy ancient disboard riku...  \n",
       "193585   drama woman deals toxic water scandal flint mi...  \n",
       "193587   action animation large scale catastrophe occur...  \n",
       "193609   comedy outrageous misogynistic vulgar max come...  \n",
       "\n",
       "[9525 rows x 2 columns]"
      ]
     },
     "execution_count": 62,
     "metadata": {},
     "output_type": "execute_result"
    }
   ],
   "source": [
    "user_not_interact = experiment_pos_processing[~experiment_pos_processing.index.isin(user_preferences.index)]\n",
    "user_not_interact"
   ]
  },
  {
   "cell_type": "code",
   "execution_count": 64,
   "metadata": {},
   "outputs": [
    {
     "data": {
      "text/plain": [
       "[3951,\n",
       " 3899,\n",
       " 2740,\n",
       " 747,\n",
       " 8711,\n",
       " 440,\n",
       " 47122,\n",
       " 33672,\n",
       " 8640,\n",
       " 166024,\n",
       " 3316,\n",
       " 83796,\n",
       " 58404,\n",
       " 91337,\n",
       " 6063,\n",
       " 4489,\n",
       " 26303,\n",
       " 7714,\n",
       " 387,\n",
       " 26082,\n",
       " 1228,\n",
       " 1242,\n",
       " 166534,\n",
       " 116411,\n",
       " 1722,\n",
       " 93840,\n",
       " 38159,\n",
       " 513,\n",
       " 2451,\n",
       " 6294,\n",
       " 27074,\n",
       " 1137,\n",
       " 87028,\n",
       " 151695,\n",
       " 5706,\n",
       " 4506,\n",
       " 5338,\n",
       " 5093,\n",
       " 175,\n",
       " 4970,\n",
       " 8492,\n",
       " 6598,\n",
       " 111622,\n",
       " 103341,\n",
       " 5094,\n",
       " 45672,\n",
       " 142509,\n",
       " 26622,\n",
       " 4265,\n",
       " 2469,\n",
       " 71899,\n",
       " 102165,\n",
       " 93326,\n",
       " 2174,\n",
       " 184791,\n",
       " 89,\n",
       " 52287,\n",
       " 89837,\n",
       " 71640,\n",
       " 126921,\n",
       " 2848,\n",
       " 99149,\n",
       " 85397,\n",
       " 852,\n",
       " 44931,\n",
       " 33903,\n",
       " 175707,\n",
       " 6978,\n",
       " 2382,\n",
       " 1173,\n",
       " 3706,\n",
       " 7163,\n",
       " 2070,\n",
       " 66297,\n",
       " 106785,\n",
       " 6339,\n",
       " 376,\n",
       " 6281,\n",
       " 95690,\n",
       " 7369,\n",
       " 145150,\n",
       " 72701,\n",
       " 692,\n",
       " 5503,\n",
       " 193581,\n",
       " 62834,\n",
       " 4756,\n",
       " 322,\n",
       " 6965,\n",
       " 107447,\n",
       " 5786,\n",
       " 116823,\n",
       " 8533,\n",
       " 1907,\n",
       " 8153,\n",
       " 64285,\n",
       " 126420,\n",
       " 3111,\n",
       " 155659,\n",
       " 55]"
      ]
     },
     "execution_count": 64,
     "metadata": {},
     "output_type": "execute_result"
    }
   ],
   "source": [
    "user_preferences_ids = list(user_preferences.index)\n",
    "user_preferences_ids"
   ]
  },
  {
   "cell_type": "code",
   "execution_count": 65,
   "metadata": {},
   "outputs": [
    {
     "data": {
      "text/plain": [
       "9525"
      ]
     },
     "execution_count": 65,
     "metadata": {},
     "output_type": "execute_result"
    }
   ],
   "source": [
    "user_not_interact_ids = list(user_not_interact.index)\n",
    "len(user_not_interact_ids)"
   ]
  },
  {
   "cell_type": "code",
   "execution_count": 74,
   "metadata": {},
   "outputs": [
    {
     "data": {
      "text/plain": [
       "[20, 892, 3325, 4644, 4719, 6596, 6902, 89898, 103027, 148775]"
      ]
     },
     "execution_count": 74,
     "metadata": {},
     "output_type": "execute_result"
    }
   ],
   "source": [
    "movies_recomended = get_recommended(user_preferences_ids, user_not_interact_ids, movie_id_list, cosine_sim)\n",
    "movies_recomended"
   ]
  }
 ],
 "metadata": {
  "kernelspec": {
   "display_name": "Python 3.9.13 ('tccenv')",
   "language": "python",
   "name": "python3"
  },
  "language_info": {
   "codemirror_mode": {
    "name": "ipython",
    "version": 3
   },
   "file_extension": ".py",
   "mimetype": "text/x-python",
   "name": "python",
   "nbconvert_exporter": "python",
   "pygments_lexer": "ipython3",
   "version": "3.9.13"
  },
  "orig_nbformat": 4,
  "vscode": {
   "interpreter": {
    "hash": "9e1b49217fe1f6e7052c73d461b10e73d2c8e219de20ecc2f118f6b9f672e67d"
   }
  }
 },
 "nbformat": 4,
 "nbformat_minor": 2
}

{
 "cells": [
  {
   "attachments": {},
   "cell_type": "markdown",
   "metadata": {},
   "source": [
    "## Generate recomendation statistics"
   ]
  },
  {
   "cell_type": "code",
   "execution_count": 3,
   "metadata": {},
   "outputs": [],
   "source": [
    "from recomender.preprocessor import RatingDataset, MovieDataset\n",
    "from recomender.evaluation import EvaluationGenerator\n",
    "\n",
    "import pandas as pd\n",
    "import json\n",
    "import numpy as np"
   ]
  },
  {
   "attachments": {},
   "cell_type": "markdown",
   "metadata": {},
   "source": [
    "### With MoviesLens dataset"
   ]
  },
  {
   "cell_type": "code",
   "execution_count": null,
   "metadata": {},
   "outputs": [],
   "source": [
    "movie_processor = MovieDataset(pd.read_csv(\"data/ml-latest-small/overviews.csv\"))\n",
    "movie_details_df = movie_processor.join_movies_details(movies_df=pd.read_csv('data/ml-latest-small/movies.csv'))\n",
    "ratings_df = RatingDataset().process(pd.read_csv('data/ml-latest-small/ratings.csv'), movie_processor.missing_description_list)\n",
    "\n",
    "print(\"quantity of unique users: \"+str(len(set(ratings_df.userId.to_list()))))\n",
    "\n",
    "combination_pre_process_techniques = [\n",
    "    (1, (False, False, False)),\n",
    "    (2, (False, False, True)),\n",
    "    (3, (False, True, False)),\n",
    "    (4, (False, True, True)),\n",
    "    (5, (True, False, False)),\n",
    "    (6, (True, False, True)),\n",
    "    (7, (True, True, False)),\n",
    "    (8, (True, True, True)),\n",
    "]\n",
    "\n",
    "evaluate_generator = EvaluationGenerator(item_df = movie_details_df, rating_df=ratings_df)\n",
    "\n",
    "with open(f\"{evaluate_generator.export_folder}/labels.json\", \"w\", encoding=\"utf-8\") as labels_file:\n",
    "    labels_file.write(json.dumps({\n",
    "    \"recomendations_1\": 'nenhuma técnica',\n",
    "    \"recomendations_2\": 'stemm',\n",
    "    \"recomendations_3\": 'lemma',\n",
    "    \"recomendations_4\": 'stopword',\n",
    "    \"recomendations_5\": 'stemm + lemma',\n",
    "    \"recomendations_6\": 'stopword + stemm',\n",
    "    \"recomendations_7\": 'stopword + lemma',\n",
    "    \"recomendations_8\": 'todas as técnincas'\n",
    "}))\n",
    "for count, technique in combination_pre_process_techniques:\n",
    "    evaluate_generator.generate( technique, count)"
   ]
  },
  {
   "attachments": {},
   "cell_type": "markdown",
   "metadata": {},
   "source": [
    "#### Evaluate Recomendations"
   ]
  },
  {
   "cell_type": "code",
   "execution_count": null,
   "metadata": {},
   "outputs": [],
   "source": [
    "import glob\n",
    "import os\n",
    "import json\n",
    "from recomender.plotter import Plotter"
   ]
  },
  {
   "cell_type": "code",
   "execution_count": null,
   "metadata": {},
   "outputs": [],
   "source": [
    "def load_recomendations(result_folder:str) -> list:\n",
    "    \n",
    "    labels_f = open(f\"{result_folder}/labels.json\", \"r\")\n",
    "    labels = json.loads(labels_f.read())\n",
    "    labels_f.close()\n",
    "\n",
    "    recomendations_uri = glob.glob(result_folder+\"/*.csv\")\n",
    "    recomendations = {}\n",
    "    for i in range(len(recomendations_uri)):\n",
    "        name =  os.path.split(recomendations_uri[i])[1].replace(\".csv\", \"\")\n",
    "        recomendations[name] = {\n",
    "                            \"label\": labels[name],\n",
    "                            \"dataset\": pd.read_csv(recomendations_uri[i])\n",
    "                            }\n",
    "    \n",
    "    return recomendations"
   ]
  },
  {
   "cell_type": "code",
   "execution_count": null,
   "metadata": {},
   "outputs": [],
   "source": [
    "export_folder = \"result/first_run\"\n",
    "recomendations = load_recomendations(export_folder)"
   ]
  },
  {
   "cell_type": "code",
   "execution_count": null,
   "metadata": {},
   "outputs": [],
   "source": [
    "plotter = Plotter()\n",
    "plotter.plot_col(recomendations, \"prc\", \"Average Precision\", export_folder)\n",
    "plotter.plot_col(recomendations, \"ap\", \"Mean Average Precision\", export_folder)\n",
    "plotter.plot_col(recomendations, \"rr\", \"Mean Reciprocal Rank\", export_folder)"
   ]
  },
  {
   "cell_type": "code",
   "execution_count": null,
   "metadata": {},
   "outputs": [],
   "source": []
  }
 ],
 "metadata": {
  "kernelspec": {
   "display_name": "Python 3.9.13 ('tccenv')",
   "language": "python",
   "name": "python3"
  },
  "language_info": {
   "codemirror_mode": {
    "name": "ipython",
    "version": 3
   },
   "file_extension": ".py",
   "mimetype": "text/x-python",
   "name": "python",
   "nbconvert_exporter": "python",
   "pygments_lexer": "ipython3",
   "version": "3.10.11"
  },
  "orig_nbformat": 4,
  "vscode": {
   "interpreter": {
    "hash": "9e1b49217fe1f6e7052c73d461b10e73d2c8e219de20ecc2f118f6b9f672e67d"
   }
  }
 },
 "nbformat": 4,
 "nbformat_minor": 2
}

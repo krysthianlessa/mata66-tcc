{
 "cells": [
  {
   "cell_type": "code",
   "execution_count": 14,
   "metadata": {},
   "outputs": [],
   "source": [
    "import pandas as pd"
   ]
  },
  {
   "attachments": {},
   "cell_type": "markdown",
   "metadata": {},
   "source": [
    "### Joker Dataset\n",
    "\n",
    "**Reference**: https://eigentaste.berkeley.edu/dataset/"
   ]
  },
  {
   "cell_type": "code",
   "execution_count": 24,
   "metadata": {},
   "outputs": [],
   "source": [
    "joke_desc_df = None\n",
    "with open(file=\"data/jester-joker/brute-description-joke.csv\", mode = \"r\", encoding=\"utf8\") as brute_desc_file:\n",
    "    joke_desc_df = pd.DataFrame({\"overview\": brute_desc_file.readlines()})\n",
    "\n",
    "joke_desc_df.loc[:,\"overview\"] = joke_desc_df[\"overview\"].replace(\"\\n\", \"\")\n",
    "joke_desc_df.loc[:,\"id\"] = joke_desc_df.index\n",
    "joke_desc_df.to_csv(\"data/jester-joker/description-joke.csv\", index=False)"
   ]
  },
  {
   "cell_type": "code",
   "execution_count": 42,
   "metadata": {},
   "outputs": [],
   "source": [
    "user_ratings = []\n",
    "with open(file=\"data/jester-joker/brute-rating-joke.csv\", mode = \"r\", encoding=\"utf8\") as brute_desc_file:\n",
    "    \n",
    "    lines = brute_desc_file.readlines()\n",
    "    joke_len = len(lines[0].split(\",\"))-1\n",
    "\n",
    "    for i in range(len(lines)):\n",
    "\n",
    "        col_values = lines[i].split(\",\")\n",
    "        for j in range(1,joke_len):\n",
    "            if \"99\" == col_values[j]:\n",
    "                continue\n",
    "            user_ratings.append({\"userId\": i, \"jokeId\": j, \"rating\": float(col_values[j])})\n",
    "\n",
    "user_ratings_df = pd.DataFrame(user_ratings)\n",
    "user_ratings_df = user_ratings_df.replace(99, None)\n",
    "user_ratings_df.dropna(inplace=True)\n",
    "user_ratings_df.to_csv(\"data/jester-joker/description-joke.csv\", index=False)"
   ]
  },
  {
   "cell_type": "code",
   "execution_count": null,
   "metadata": {},
   "outputs": [],
   "source": []
  }
 ],
 "metadata": {
  "kernelspec": {
   "display_name": "venv",
   "language": "python",
   "name": "python3"
  },
  "language_info": {
   "codemirror_mode": {
    "name": "ipython",
    "version": 3
   },
   "file_extension": ".py",
   "mimetype": "text/x-python",
   "name": "python",
   "nbconvert_exporter": "python",
   "pygments_lexer": "ipython3",
   "version": "3.10.11"
  },
  "orig_nbformat": 4
 },
 "nbformat": 4,
 "nbformat_minor": 2
}
